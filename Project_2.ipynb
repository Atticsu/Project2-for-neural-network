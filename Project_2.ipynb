{
 "cells": [
  {
   "cell_type": "code",
   "execution_count": 1,
   "metadata": {},
   "outputs": [],
   "source": [
    "import torch\n",
    "import torch.nn as nn\n",
    "import torch.optim as optim\n",
    "import torchvision\n",
    "import torchvision.transforms as transforms\n",
    "from torch.utils.data import DataLoader\n",
    "import matplotlib.pyplot as plt\n",
    "from tqdm import tqdm\n",
    "import matplotlib.pyplot as plt\n",
    "from torch.optim.lr_scheduler import ExponentialLR\n",
    "import os\n",
    "import pandas as pd\n",
    "from MyInceptionV4 import InceptionV4\n",
    "from MyFramework import InceptionNet\n",
    "from MyFramework import InceptionResNet\n",
    "from MyVGG import VGG_A\n",
    "from MyVGG import VGG_BatchNorm\n"
   ]
  },
  {
   "cell_type": "code",
   "execution_count": 2,
   "metadata": {},
   "outputs": [
    {
     "name": "stdout",
     "output_type": "stream",
     "text": [
      "cuda:0\n",
      "NVIDIA RTX A6000\n"
     ]
    }
   ],
   "source": [
    "device_id = 0\n",
    "os.environ[\"CUDA_DEVICE_ORDER\"]=\"PCI_BUS_ID\"  \n",
    "os.environ[\"CUDA_VISIBLE_DEVICES\"]=str(device_id)\n",
    "\n",
    "device = torch.device(\"cuda:{}\".format(device_id) if torch.cuda.is_available() else \"cpu\")\n",
    "print(device)\n",
    "print(torch.cuda.get_device_name(device_id))"
   ]
  },
  {
   "cell_type": "code",
   "execution_count": 3,
   "metadata": {},
   "outputs": [],
   "source": [
    "transform_train = transforms.Compose([\n",
    "    transforms.RandomResizedCrop(32, scale=(0.8, 1.0)),  # 如果使用Inception v4网络，需要调整为299\n",
    "    transforms.RandomHorizontalFlip(),  # 随机水平翻转\n",
    "    transforms.ColorJitter(brightness=0.2, contrast=0.2, saturation=0.2, hue=0.1),  # 随机颜色变换\n",
    "    transforms.RandomRotation(10),  # 随机旋转(-10, 10)度\n",
    "    transforms.ToTensor(),  \n",
    "    transforms.Normalize((0.5, 0.5, 0.5), (0.5, 0.5,0.5)), \n",
    "])\n",
    "\n",
    "transform_test = transforms.Compose([\n",
    "    transforms.Resize(32),    # 如果使用Inception v4网络，需要调整为299\n",
    "    transforms.ToTensor(),  \n",
    "    transforms.Normalize((0.5, 0.5, 0.5), (0.5, 0.5,0.5)),  \n",
    "])\n",
    "\n",
    "trainset = torchvision.datasets.CIFAR10(root='./data', train=True, download=False, transform=transform_train)\n",
    "trainloader = DataLoader(trainset, batch_size=100, shuffle=True, num_workers=2)\n",
    "\n",
    "testset = torchvision.datasets.CIFAR10(root='./data', train=False, download=False, transform=transform_test)\n",
    "testloader = DataLoader(testset, batch_size=100, shuffle=False, num_workers=2)"
   ]
  },
  {
   "cell_type": "code",
   "execution_count": null,
   "metadata": {},
   "outputs": [],
   "source": [
    "# 选择网络\n",
    "device = torch.device(\"cuda\" if torch.cuda.is_available() else \"cpu\")\n",
    "model = VGG_A().to(device)"
   ]
  },
  {
   "cell_type": "code",
   "execution_count": null,
   "metadata": {},
   "outputs": [],
   "source": [
    "criterion = nn.CrossEntropyLoss()\n",
    "# optimizer = optim.SGD(model.parameters(), lr=0.0001, weight_decay=0.0001)\n",
    "optimizer = optim.Adam(model.parameters(), lr=0.0001, weight_decay=0.0001) #0.001 for VGG\n",
    "# optimizer = optim.AdamW(model.parameters(), lr=0.0001, weight_decay=0.0001)\n",
    "# optimizer = optim.RMSprop(model.parameters(), lr=0.0001, alpha=0.99, weight_decay=0.0001)\n",
    "\n",
    "# 训练模型\n",
    "def train(epoch):\n",
    "    model.train()\n",
    "    running_loss = 0.0\n",
    "    epoch_loss = 0.0\n",
    "    pbar = tqdm(enumerate(trainloader), total=len(trainloader), desc=f\"Epoch {epoch+1}\")\n",
    "    for batch_idx, (inputs, targets) in pbar:\n",
    "        inputs, targets = inputs.to(device), targets.to(device)\n",
    "        optimizer.zero_grad()\n",
    "        outputs = model(inputs)\n",
    "        loss = criterion(outputs, targets)\n",
    "        loss.backward()\n",
    "        optimizer.step()\n",
    "\n",
    "        running_loss += loss.item()\n",
    "        epoch_loss += loss.item()\n",
    "        if batch_idx % 100 == 99:  # 每100个批次打印一次\n",
    "            pbar.set_postfix({'Loss': running_loss / 100})\n",
    "            running_loss = 0.0\n",
    "    return epoch_loss / len(trainloader)\n",
    "\n",
    "def test():\n",
    "    model.eval()\n",
    "    correct = 0\n",
    "    total = 0\n",
    "    with torch.no_grad():\n",
    "        pbar = tqdm(enumerate(testloader), total=len(testloader), desc=\"Testing\")\n",
    "        for batch_idx, (inputs, targets) in pbar:\n",
    "            inputs, targets = inputs.to(device), targets.to(device)\n",
    "            outputs = model(inputs)\n",
    "            _, predicted = outputs.max(1)\n",
    "            total += targets.size(0)\n",
    "            correct += predicted.eq(targets).sum().item()\n",
    "    accuracy = 100. * correct / total\n",
    "    print(f'Test Accuracy: {accuracy:.2f}%')\n",
    "    return accuracy\n",
    "\n",
    "# 初始化列表以记录训练损失和测试精度\n",
    "train_losses = []\n",
    "test_accuracies = []\n",
    "epoch_size = 200\n",
    "# 执行训练和测试\n",
    "for epoch in range(epoch_size):  # 训练100个epoch\n",
    "    train_loss = train(epoch)\n",
    "    train_losses.append(train_loss)\n",
    "    test_accuracy = test()\n",
    "    test_accuracies.append(test_accuracy)\n",
    "\n",
    "# 输出最终的结果\n",
    "print(f'Final Training Loss: {train_losses[-1]:.4f}')\n",
    "print(f'Final Test Accuracy: {test_accuracies[-1]:.2f}%')"
   ]
  },
  {
   "cell_type": "code",
   "execution_count": null,
   "metadata": {},
   "outputs": [],
   "source": [
    "plt.figure()\n",
    "plt.plot(range(1, epoch_size+1), test_accuracies, label='Accuracy')\n",
    "plt.xlabel('Epoch')\n",
    "plt.ylabel('Accuracy')\n",
    "plt.title('Testing Accuracy over Epochs')\n",
    "plt.legend()\n",
    "plt.show()\n",
    "\n",
    "plt.figure()\n",
    "plt.plot(range(1, epoch_size+1), train_losses, label='Training Loss')\n",
    "plt.xlabel('Epoch')\n",
    "plt.ylabel('Loss')\n",
    "plt.title('Training Loss over Epochs')\n",
    "plt.legend()\n",
    "plt.show()\n"
   ]
  },
  {
   "cell_type": "markdown",
   "metadata": {},
   "source": [
    "# 损失景观："
   ]
  },
  {
   "cell_type": "code",
   "execution_count": 4,
   "metadata": {},
   "outputs": [
    {
     "name": "stderr",
     "output_type": "stream",
     "text": [
      "Epoch 1: 100%|██████████| 500/500 [00:09<00:00, 52.19it/s, Loss=1.83]\n",
      "Testing: 100%|██████████| 100/100 [00:00<00:00, 221.52it/s]"
     ]
    },
    {
     "name": "stdout",
     "output_type": "stream",
     "text": [
      "Test Accuracy: 35.44%\n"
     ]
    },
    {
     "name": "stderr",
     "output_type": "stream",
     "text": [
      "\n",
      "Epoch 2: 100%|██████████| 500/500 [00:09<00:00, 51.35it/s, Loss=1.5] \n",
      "Testing: 100%|██████████| 100/100 [00:00<00:00, 229.75it/s]"
     ]
    },
    {
     "name": "stdout",
     "output_type": "stream",
     "text": [
      "Test Accuracy: 47.96%\n"
     ]
    },
    {
     "name": "stderr",
     "output_type": "stream",
     "text": [
      "\n",
      "Epoch 3: 100%|██████████| 500/500 [00:09<00:00, 51.06it/s, Loss=1.28]\n",
      "Testing: 100%|██████████| 100/100 [00:00<00:00, 233.74it/s]"
     ]
    },
    {
     "name": "stdout",
     "output_type": "stream",
     "text": [
      "Test Accuracy: 58.01%\n"
     ]
    },
    {
     "name": "stderr",
     "output_type": "stream",
     "text": [
      "\n",
      "Epoch 4: 100%|██████████| 500/500 [00:09<00:00, 51.67it/s, Loss=1.14]\n",
      "Testing: 100%|██████████| 100/100 [00:00<00:00, 236.68it/s]"
     ]
    },
    {
     "name": "stdout",
     "output_type": "stream",
     "text": [
      "Test Accuracy: 62.50%\n"
     ]
    },
    {
     "name": "stderr",
     "output_type": "stream",
     "text": [
      "\n",
      "Epoch 5: 100%|██████████| 500/500 [00:09<00:00, 51.37it/s, Loss=1.04]\n",
      "Testing: 100%|██████████| 100/100 [00:00<00:00, 231.22it/s]"
     ]
    },
    {
     "name": "stdout",
     "output_type": "stream",
     "text": [
      "Test Accuracy: 67.45%\n"
     ]
    },
    {
     "name": "stderr",
     "output_type": "stream",
     "text": [
      "\n",
      "Epoch 6: 100%|██████████| 500/500 [00:09<00:00, 51.67it/s, Loss=0.956]\n",
      "Testing: 100%|██████████| 100/100 [00:00<00:00, 233.44it/s]"
     ]
    },
    {
     "name": "stdout",
     "output_type": "stream",
     "text": [
      "Test Accuracy: 69.89%\n"
     ]
    },
    {
     "name": "stderr",
     "output_type": "stream",
     "text": [
      "\n",
      "Epoch 7: 100%|██████████| 500/500 [00:09<00:00, 51.75it/s, Loss=0.882]\n",
      "Testing: 100%|██████████| 100/100 [00:00<00:00, 230.50it/s]"
     ]
    },
    {
     "name": "stdout",
     "output_type": "stream",
     "text": [
      "Test Accuracy: 71.26%\n"
     ]
    },
    {
     "name": "stderr",
     "output_type": "stream",
     "text": [
      "\n",
      "Epoch 8: 100%|██████████| 500/500 [00:09<00:00, 51.46it/s, Loss=0.839]\n",
      "Testing: 100%|██████████| 100/100 [00:00<00:00, 231.14it/s]"
     ]
    },
    {
     "name": "stdout",
     "output_type": "stream",
     "text": [
      "Test Accuracy: 72.68%\n"
     ]
    },
    {
     "name": "stderr",
     "output_type": "stream",
     "text": [
      "\n",
      "Epoch 9: 100%|██████████| 500/500 [00:09<00:00, 51.50it/s, Loss=0.805]\n",
      "Testing: 100%|██████████| 100/100 [00:00<00:00, 232.57it/s]"
     ]
    },
    {
     "name": "stdout",
     "output_type": "stream",
     "text": [
      "Test Accuracy: 75.35%\n"
     ]
    },
    {
     "name": "stderr",
     "output_type": "stream",
     "text": [
      "\n",
      "Epoch 10: 100%|██████████| 500/500 [00:09<00:00, 51.49it/s, Loss=0.758]\n",
      "Testing: 100%|██████████| 100/100 [00:00<00:00, 232.56it/s]"
     ]
    },
    {
     "name": "stdout",
     "output_type": "stream",
     "text": [
      "Test Accuracy: 74.93%\n"
     ]
    },
    {
     "name": "stderr",
     "output_type": "stream",
     "text": [
      "\n",
      "Epoch 11: 100%|██████████| 500/500 [00:09<00:00, 51.39it/s, Loss=0.764]\n",
      "Testing: 100%|██████████| 100/100 [00:00<00:00, 231.16it/s]"
     ]
    },
    {
     "name": "stdout",
     "output_type": "stream",
     "text": [
      "Test Accuracy: 77.24%\n"
     ]
    },
    {
     "name": "stderr",
     "output_type": "stream",
     "text": [
      "\n",
      "Epoch 12: 100%|██████████| 500/500 [00:09<00:00, 51.63it/s, Loss=0.717]\n",
      "Testing: 100%|██████████| 100/100 [00:00<00:00, 233.28it/s]"
     ]
    },
    {
     "name": "stdout",
     "output_type": "stream",
     "text": [
      "Test Accuracy: 77.28%\n"
     ]
    },
    {
     "name": "stderr",
     "output_type": "stream",
     "text": [
      "\n",
      "Epoch 13: 100%|██████████| 500/500 [00:09<00:00, 51.49it/s, Loss=0.682]\n",
      "Testing: 100%|██████████| 100/100 [00:00<00:00, 234.44it/s]"
     ]
    },
    {
     "name": "stdout",
     "output_type": "stream",
     "text": [
      "Test Accuracy: 78.64%\n"
     ]
    },
    {
     "name": "stderr",
     "output_type": "stream",
     "text": [
      "\n",
      "Epoch 14: 100%|██████████| 500/500 [00:09<00:00, 51.28it/s, Loss=0.685]\n",
      "Testing: 100%|██████████| 100/100 [00:00<00:00, 230.66it/s]"
     ]
    },
    {
     "name": "stdout",
     "output_type": "stream",
     "text": [
      "Test Accuracy: 76.04%\n"
     ]
    },
    {
     "name": "stderr",
     "output_type": "stream",
     "text": [
      "\n",
      "Epoch 15: 100%|██████████| 500/500 [00:09<00:00, 51.70it/s, Loss=0.675]\n",
      "Testing: 100%|██████████| 100/100 [00:00<00:00, 228.38it/s]"
     ]
    },
    {
     "name": "stdout",
     "output_type": "stream",
     "text": [
      "Test Accuracy: 78.19%\n"
     ]
    },
    {
     "name": "stderr",
     "output_type": "stream",
     "text": [
      "\n",
      "Epoch 16: 100%|██████████| 500/500 [00:09<00:00, 51.46it/s, Loss=0.647]\n",
      "Testing: 100%|██████████| 100/100 [00:00<00:00, 234.15it/s]"
     ]
    },
    {
     "name": "stdout",
     "output_type": "stream",
     "text": [
      "Test Accuracy: 79.19%\n"
     ]
    },
    {
     "name": "stderr",
     "output_type": "stream",
     "text": [
      "\n",
      "Epoch 17: 100%|██████████| 500/500 [00:09<00:00, 51.56it/s, Loss=0.627]\n",
      "Testing: 100%|██████████| 100/100 [00:00<00:00, 234.90it/s]"
     ]
    },
    {
     "name": "stdout",
     "output_type": "stream",
     "text": [
      "Test Accuracy: 78.63%\n"
     ]
    },
    {
     "name": "stderr",
     "output_type": "stream",
     "text": [
      "\n",
      "Epoch 18: 100%|██████████| 500/500 [00:09<00:00, 51.62it/s, Loss=0.601]\n",
      "Testing: 100%|██████████| 100/100 [00:00<00:00, 231.56it/s]"
     ]
    },
    {
     "name": "stdout",
     "output_type": "stream",
     "text": [
      "Test Accuracy: 79.50%\n"
     ]
    },
    {
     "name": "stderr",
     "output_type": "stream",
     "text": [
      "\n",
      "Epoch 19: 100%|██████████| 500/500 [00:09<00:00, 51.65it/s, Loss=0.604]\n",
      "Testing: 100%|██████████| 100/100 [00:00<00:00, 232.06it/s]"
     ]
    },
    {
     "name": "stdout",
     "output_type": "stream",
     "text": [
      "Test Accuracy: 79.89%\n"
     ]
    },
    {
     "name": "stderr",
     "output_type": "stream",
     "text": [
      "\n",
      "Epoch 20: 100%|██████████| 500/500 [00:09<00:00, 51.71it/s, Loss=0.572]\n",
      "Testing: 100%|██████████| 100/100 [00:00<00:00, 230.11it/s]"
     ]
    },
    {
     "name": "stdout",
     "output_type": "stream",
     "text": [
      "Test Accuracy: 79.67%\n"
     ]
    },
    {
     "name": "stderr",
     "output_type": "stream",
     "text": [
      "\n",
      "Epoch 21: 100%|██████████| 500/500 [00:09<00:00, 51.72it/s, Loss=0.565]\n",
      "Testing: 100%|██████████| 100/100 [00:00<00:00, 236.22it/s]"
     ]
    },
    {
     "name": "stdout",
     "output_type": "stream",
     "text": [
      "Test Accuracy: 80.62%\n"
     ]
    },
    {
     "name": "stderr",
     "output_type": "stream",
     "text": [
      "\n",
      "Epoch 22: 100%|██████████| 500/500 [00:09<00:00, 51.46it/s, Loss=0.562]\n",
      "Testing: 100%|██████████| 100/100 [00:00<00:00, 230.29it/s]"
     ]
    },
    {
     "name": "stdout",
     "output_type": "stream",
     "text": [
      "Test Accuracy: 80.04%\n"
     ]
    },
    {
     "name": "stderr",
     "output_type": "stream",
     "text": [
      "\n",
      "Epoch 23: 100%|██████████| 500/500 [00:09<00:00, 51.69it/s, Loss=0.516]\n",
      "Testing: 100%|██████████| 100/100 [00:00<00:00, 236.20it/s]"
     ]
    },
    {
     "name": "stdout",
     "output_type": "stream",
     "text": [
      "Test Accuracy: 80.50%\n"
     ]
    },
    {
     "name": "stderr",
     "output_type": "stream",
     "text": [
      "\n",
      "Epoch 24: 100%|██████████| 500/500 [00:09<00:00, 51.35it/s, Loss=0.541]\n",
      "Testing: 100%|██████████| 100/100 [00:00<00:00, 232.04it/s]"
     ]
    },
    {
     "name": "stdout",
     "output_type": "stream",
     "text": [
      "Test Accuracy: 81.22%\n"
     ]
    },
    {
     "name": "stderr",
     "output_type": "stream",
     "text": [
      "\n",
      "Epoch 25: 100%|██████████| 500/500 [00:09<00:00, 51.66it/s, Loss=0.511]\n",
      "Testing: 100%|██████████| 100/100 [00:00<00:00, 230.36it/s]"
     ]
    },
    {
     "name": "stdout",
     "output_type": "stream",
     "text": [
      "Test Accuracy: 80.66%\n"
     ]
    },
    {
     "name": "stderr",
     "output_type": "stream",
     "text": [
      "\n",
      "Epoch 26: 100%|██████████| 500/500 [00:09<00:00, 51.58it/s, Loss=0.502]\n",
      "Testing: 100%|██████████| 100/100 [00:00<00:00, 234.41it/s]"
     ]
    },
    {
     "name": "stdout",
     "output_type": "stream",
     "text": [
      "Test Accuracy: 81.87%\n"
     ]
    },
    {
     "name": "stderr",
     "output_type": "stream",
     "text": [
      "\n",
      "Epoch 27: 100%|██████████| 500/500 [00:09<00:00, 51.41it/s, Loss=0.499]\n",
      "Testing: 100%|██████████| 100/100 [00:00<00:00, 236.94it/s]"
     ]
    },
    {
     "name": "stdout",
     "output_type": "stream",
     "text": [
      "Test Accuracy: 80.21%\n"
     ]
    },
    {
     "name": "stderr",
     "output_type": "stream",
     "text": [
      "\n",
      "Epoch 28: 100%|██████████| 500/500 [00:09<00:00, 51.44it/s, Loss=0.497]\n",
      "Testing: 100%|██████████| 100/100 [00:00<00:00, 226.63it/s]"
     ]
    },
    {
     "name": "stdout",
     "output_type": "stream",
     "text": [
      "Test Accuracy: 81.24%\n"
     ]
    },
    {
     "name": "stderr",
     "output_type": "stream",
     "text": [
      "\n",
      "Epoch 29: 100%|██████████| 500/500 [00:09<00:00, 51.58it/s, Loss=0.504]\n",
      "Testing: 100%|██████████| 100/100 [00:00<00:00, 232.22it/s]"
     ]
    },
    {
     "name": "stdout",
     "output_type": "stream",
     "text": [
      "Test Accuracy: 81.13%\n"
     ]
    },
    {
     "name": "stderr",
     "output_type": "stream",
     "text": [
      "\n",
      "Epoch 30: 100%|██████████| 500/500 [00:09<00:00, 51.47it/s, Loss=0.471]\n",
      "Testing: 100%|██████████| 100/100 [00:00<00:00, 231.06it/s]"
     ]
    },
    {
     "name": "stdout",
     "output_type": "stream",
     "text": [
      "Test Accuracy: 81.11%\n"
     ]
    },
    {
     "name": "stderr",
     "output_type": "stream",
     "text": [
      "\n",
      "Epoch 31: 100%|██████████| 500/500 [00:09<00:00, 51.59it/s, Loss=0.474]\n",
      "Testing: 100%|██████████| 100/100 [00:00<00:00, 233.70it/s]"
     ]
    },
    {
     "name": "stdout",
     "output_type": "stream",
     "text": [
      "Test Accuracy: 81.93%\n"
     ]
    },
    {
     "name": "stderr",
     "output_type": "stream",
     "text": [
      "\n",
      "Epoch 32: 100%|██████████| 500/500 [00:09<00:00, 51.44it/s, Loss=0.47] \n",
      "Testing: 100%|██████████| 100/100 [00:00<00:00, 232.03it/s]"
     ]
    },
    {
     "name": "stdout",
     "output_type": "stream",
     "text": [
      "Test Accuracy: 82.07%\n"
     ]
    },
    {
     "name": "stderr",
     "output_type": "stream",
     "text": [
      "\n",
      "Epoch 33: 100%|██████████| 500/500 [00:09<00:00, 51.38it/s, Loss=0.467]\n",
      "Testing: 100%|██████████| 100/100 [00:00<00:00, 230.66it/s]"
     ]
    },
    {
     "name": "stdout",
     "output_type": "stream",
     "text": [
      "Test Accuracy: 82.36%\n"
     ]
    },
    {
     "name": "stderr",
     "output_type": "stream",
     "text": [
      "\n",
      "Epoch 34: 100%|██████████| 500/500 [00:09<00:00, 51.43it/s, Loss=0.481]\n",
      "Testing: 100%|██████████| 100/100 [00:00<00:00, 230.17it/s]"
     ]
    },
    {
     "name": "stdout",
     "output_type": "stream",
     "text": [
      "Test Accuracy: 82.00%\n"
     ]
    },
    {
     "name": "stderr",
     "output_type": "stream",
     "text": [
      "\n",
      "Epoch 35: 100%|██████████| 500/500 [00:09<00:00, 51.78it/s, Loss=0.438]\n",
      "Testing: 100%|██████████| 100/100 [00:00<00:00, 235.78it/s]"
     ]
    },
    {
     "name": "stdout",
     "output_type": "stream",
     "text": [
      "Test Accuracy: 82.19%\n"
     ]
    },
    {
     "name": "stderr",
     "output_type": "stream",
     "text": [
      "\n",
      "Epoch 36: 100%|██████████| 500/500 [00:09<00:00, 51.50it/s, Loss=0.439]\n",
      "Testing: 100%|██████████| 100/100 [00:00<00:00, 228.91it/s]"
     ]
    },
    {
     "name": "stdout",
     "output_type": "stream",
     "text": [
      "Test Accuracy: 81.17%\n"
     ]
    },
    {
     "name": "stderr",
     "output_type": "stream",
     "text": [
      "\n",
      "Epoch 37: 100%|██████████| 500/500 [00:09<00:00, 51.69it/s, Loss=0.438]\n",
      "Testing: 100%|██████████| 100/100 [00:00<00:00, 232.86it/s]"
     ]
    },
    {
     "name": "stdout",
     "output_type": "stream",
     "text": [
      "Test Accuracy: 81.45%\n"
     ]
    },
    {
     "name": "stderr",
     "output_type": "stream",
     "text": [
      "\n",
      "Epoch 38: 100%|██████████| 500/500 [00:09<00:00, 51.61it/s, Loss=0.453]\n",
      "Testing: 100%|██████████| 100/100 [00:00<00:00, 232.43it/s]"
     ]
    },
    {
     "name": "stdout",
     "output_type": "stream",
     "text": [
      "Test Accuracy: 81.29%\n"
     ]
    },
    {
     "name": "stderr",
     "output_type": "stream",
     "text": [
      "\n",
      "Epoch 39: 100%|██████████| 500/500 [00:09<00:00, 51.81it/s, Loss=0.431]\n",
      "Testing: 100%|██████████| 100/100 [00:00<00:00, 230.97it/s]"
     ]
    },
    {
     "name": "stdout",
     "output_type": "stream",
     "text": [
      "Test Accuracy: 82.19%\n"
     ]
    },
    {
     "name": "stderr",
     "output_type": "stream",
     "text": [
      "\n",
      "Epoch 40: 100%|██████████| 500/500 [00:09<00:00, 51.67it/s, Loss=0.418]\n",
      "Testing: 100%|██████████| 100/100 [00:00<00:00, 234.71it/s]"
     ]
    },
    {
     "name": "stdout",
     "output_type": "stream",
     "text": [
      "Test Accuracy: 82.51%\n"
     ]
    },
    {
     "name": "stderr",
     "output_type": "stream",
     "text": [
      "\n",
      "Epoch 41: 100%|██████████| 500/500 [00:09<00:00, 51.54it/s, Loss=0.394]\n",
      "Testing: 100%|██████████| 100/100 [00:00<00:00, 230.01it/s]"
     ]
    },
    {
     "name": "stdout",
     "output_type": "stream",
     "text": [
      "Test Accuracy: 82.22%\n"
     ]
    },
    {
     "name": "stderr",
     "output_type": "stream",
     "text": [
      "\n",
      "Epoch 42: 100%|██████████| 500/500 [00:09<00:00, 51.55it/s, Loss=0.402]\n",
      "Testing: 100%|██████████| 100/100 [00:00<00:00, 232.73it/s]"
     ]
    },
    {
     "name": "stdout",
     "output_type": "stream",
     "text": [
      "Test Accuracy: 81.80%\n"
     ]
    },
    {
     "name": "stderr",
     "output_type": "stream",
     "text": [
      "\n",
      "Epoch 43: 100%|██████████| 500/500 [00:09<00:00, 51.70it/s, Loss=0.39] \n",
      "Testing: 100%|██████████| 100/100 [00:00<00:00, 234.78it/s]"
     ]
    },
    {
     "name": "stdout",
     "output_type": "stream",
     "text": [
      "Test Accuracy: 82.21%\n"
     ]
    },
    {
     "name": "stderr",
     "output_type": "stream",
     "text": [
      "\n",
      "Epoch 44: 100%|██████████| 500/500 [00:09<00:00, 51.56it/s, Loss=0.401]\n",
      "Testing: 100%|██████████| 100/100 [00:00<00:00, 233.18it/s]"
     ]
    },
    {
     "name": "stdout",
     "output_type": "stream",
     "text": [
      "Test Accuracy: 82.17%\n"
     ]
    },
    {
     "name": "stderr",
     "output_type": "stream",
     "text": [
      "\n",
      "Epoch 45: 100%|██████████| 500/500 [00:09<00:00, 51.65it/s, Loss=0.391]\n",
      "Testing: 100%|██████████| 100/100 [00:00<00:00, 228.81it/s]"
     ]
    },
    {
     "name": "stdout",
     "output_type": "stream",
     "text": [
      "Test Accuracy: 81.79%\n"
     ]
    },
    {
     "name": "stderr",
     "output_type": "stream",
     "text": [
      "\n",
      "Epoch 46: 100%|██████████| 500/500 [00:09<00:00, 51.78it/s, Loss=0.375]\n",
      "Testing: 100%|██████████| 100/100 [00:00<00:00, 231.06it/s]"
     ]
    },
    {
     "name": "stdout",
     "output_type": "stream",
     "text": [
      "Test Accuracy: 82.51%\n"
     ]
    },
    {
     "name": "stderr",
     "output_type": "stream",
     "text": [
      "\n",
      "Epoch 47: 100%|██████████| 500/500 [00:09<00:00, 51.38it/s, Loss=0.387]\n",
      "Testing: 100%|██████████| 100/100 [00:00<00:00, 233.14it/s]"
     ]
    },
    {
     "name": "stdout",
     "output_type": "stream",
     "text": [
      "Test Accuracy: 82.57%\n"
     ]
    },
    {
     "name": "stderr",
     "output_type": "stream",
     "text": [
      "\n",
      "Epoch 48: 100%|██████████| 500/500 [00:09<00:00, 51.54it/s, Loss=0.359]\n",
      "Testing: 100%|██████████| 100/100 [00:00<00:00, 232.29it/s]"
     ]
    },
    {
     "name": "stdout",
     "output_type": "stream",
     "text": [
      "Test Accuracy: 82.08%\n"
     ]
    },
    {
     "name": "stderr",
     "output_type": "stream",
     "text": [
      "\n",
      "Epoch 49: 100%|██████████| 500/500 [00:09<00:00, 51.52it/s, Loss=0.378]\n",
      "Testing: 100%|██████████| 100/100 [00:00<00:00, 234.37it/s]"
     ]
    },
    {
     "name": "stdout",
     "output_type": "stream",
     "text": [
      "Test Accuracy: 82.73%\n"
     ]
    },
    {
     "name": "stderr",
     "output_type": "stream",
     "text": [
      "\n",
      "Epoch 50: 100%|██████████| 500/500 [00:09<00:00, 51.70it/s, Loss=0.378]\n",
      "Testing: 100%|██████████| 100/100 [00:00<00:00, 235.50it/s]"
     ]
    },
    {
     "name": "stdout",
     "output_type": "stream",
     "text": [
      "Test Accuracy: 82.25%\n"
     ]
    },
    {
     "name": "stderr",
     "output_type": "stream",
     "text": [
      "\n",
      "Epoch 51: 100%|██████████| 500/500 [00:09<00:00, 51.29it/s, Loss=0.373]\n",
      "Testing: 100%|██████████| 100/100 [00:00<00:00, 231.71it/s]"
     ]
    },
    {
     "name": "stdout",
     "output_type": "stream",
     "text": [
      "Test Accuracy: 81.96%\n"
     ]
    },
    {
     "name": "stderr",
     "output_type": "stream",
     "text": [
      "\n",
      "Epoch 52: 100%|██████████| 500/500 [00:09<00:00, 51.43it/s, Loss=0.373]\n",
      "Testing: 100%|██████████| 100/100 [00:00<00:00, 233.06it/s]"
     ]
    },
    {
     "name": "stdout",
     "output_type": "stream",
     "text": [
      "Test Accuracy: 82.67%\n"
     ]
    },
    {
     "name": "stderr",
     "output_type": "stream",
     "text": [
      "\n",
      "Epoch 53: 100%|██████████| 500/500 [00:09<00:00, 51.43it/s, Loss=0.333]\n",
      "Testing: 100%|██████████| 100/100 [00:00<00:00, 230.35it/s]"
     ]
    },
    {
     "name": "stdout",
     "output_type": "stream",
     "text": [
      "Test Accuracy: 82.88%\n"
     ]
    },
    {
     "name": "stderr",
     "output_type": "stream",
     "text": [
      "\n",
      "Epoch 54: 100%|██████████| 500/500 [00:09<00:00, 51.64it/s, Loss=0.361]\n",
      "Testing: 100%|██████████| 100/100 [00:00<00:00, 236.55it/s]"
     ]
    },
    {
     "name": "stdout",
     "output_type": "stream",
     "text": [
      "Test Accuracy: 83.03%\n"
     ]
    },
    {
     "name": "stderr",
     "output_type": "stream",
     "text": [
      "\n",
      "Epoch 55: 100%|██████████| 500/500 [00:09<00:00, 51.53it/s, Loss=0.356]\n",
      "Testing: 100%|██████████| 100/100 [00:00<00:00, 229.54it/s]"
     ]
    },
    {
     "name": "stdout",
     "output_type": "stream",
     "text": [
      "Test Accuracy: 82.40%\n"
     ]
    },
    {
     "name": "stderr",
     "output_type": "stream",
     "text": [
      "\n",
      "Epoch 56: 100%|██████████| 500/500 [00:09<00:00, 51.53it/s, Loss=0.363]\n",
      "Testing: 100%|██████████| 100/100 [00:00<00:00, 234.54it/s]"
     ]
    },
    {
     "name": "stdout",
     "output_type": "stream",
     "text": [
      "Test Accuracy: 83.15%\n"
     ]
    },
    {
     "name": "stderr",
     "output_type": "stream",
     "text": [
      "\n",
      "Epoch 57: 100%|██████████| 500/500 [00:09<00:00, 51.98it/s, Loss=0.352]\n",
      "Testing: 100%|██████████| 100/100 [00:00<00:00, 234.33it/s]"
     ]
    },
    {
     "name": "stdout",
     "output_type": "stream",
     "text": [
      "Test Accuracy: 82.59%\n"
     ]
    },
    {
     "name": "stderr",
     "output_type": "stream",
     "text": [
      "\n",
      "Epoch 58: 100%|██████████| 500/500 [00:09<00:00, 51.52it/s, Loss=0.338]\n",
      "Testing: 100%|██████████| 100/100 [00:00<00:00, 232.95it/s]"
     ]
    },
    {
     "name": "stdout",
     "output_type": "stream",
     "text": [
      "Test Accuracy: 83.09%\n"
     ]
    },
    {
     "name": "stderr",
     "output_type": "stream",
     "text": [
      "\n",
      "Epoch 59: 100%|██████████| 500/500 [00:09<00:00, 51.46it/s, Loss=0.338]\n",
      "Testing: 100%|██████████| 100/100 [00:00<00:00, 229.64it/s]"
     ]
    },
    {
     "name": "stdout",
     "output_type": "stream",
     "text": [
      "Test Accuracy: 83.33%\n"
     ]
    },
    {
     "name": "stderr",
     "output_type": "stream",
     "text": [
      "\n",
      "Epoch 60: 100%|██████████| 500/500 [00:09<00:00, 51.62it/s, Loss=0.336]\n",
      "Testing: 100%|██████████| 100/100 [00:00<00:00, 232.71it/s]"
     ]
    },
    {
     "name": "stdout",
     "output_type": "stream",
     "text": [
      "Test Accuracy: 82.93%\n"
     ]
    },
    {
     "name": "stderr",
     "output_type": "stream",
     "text": [
      "\n",
      "Epoch 61: 100%|██████████| 500/500 [00:09<00:00, 51.61it/s, Loss=0.328]\n",
      "Testing: 100%|██████████| 100/100 [00:00<00:00, 234.40it/s]"
     ]
    },
    {
     "name": "stdout",
     "output_type": "stream",
     "text": [
      "Test Accuracy: 83.25%\n"
     ]
    },
    {
     "name": "stderr",
     "output_type": "stream",
     "text": [
      "\n",
      "Epoch 62: 100%|██████████| 500/500 [00:09<00:00, 51.82it/s, Loss=0.324]\n",
      "Testing: 100%|██████████| 100/100 [00:00<00:00, 233.80it/s]"
     ]
    },
    {
     "name": "stdout",
     "output_type": "stream",
     "text": [
      "Test Accuracy: 82.56%\n"
     ]
    },
    {
     "name": "stderr",
     "output_type": "stream",
     "text": [
      "\n",
      "Epoch 63: 100%|██████████| 500/500 [00:09<00:00, 51.88it/s, Loss=0.335]\n",
      "Testing: 100%|██████████| 100/100 [00:00<00:00, 231.78it/s]"
     ]
    },
    {
     "name": "stdout",
     "output_type": "stream",
     "text": [
      "Test Accuracy: 82.60%\n"
     ]
    },
    {
     "name": "stderr",
     "output_type": "stream",
     "text": [
      "\n",
      "Epoch 64: 100%|██████████| 500/500 [00:09<00:00, 51.68it/s, Loss=0.334]\n",
      "Testing: 100%|██████████| 100/100 [00:00<00:00, 233.21it/s]"
     ]
    },
    {
     "name": "stdout",
     "output_type": "stream",
     "text": [
      "Test Accuracy: 83.84%\n"
     ]
    },
    {
     "name": "stderr",
     "output_type": "stream",
     "text": [
      "\n",
      "Epoch 65: 100%|██████████| 500/500 [00:09<00:00, 51.46it/s, Loss=0.327]\n",
      "Testing: 100%|██████████| 100/100 [00:00<00:00, 227.29it/s]"
     ]
    },
    {
     "name": "stdout",
     "output_type": "stream",
     "text": [
      "Test Accuracy: 82.95%\n"
     ]
    },
    {
     "name": "stderr",
     "output_type": "stream",
     "text": [
      "\n",
      "Epoch 66: 100%|██████████| 500/500 [00:09<00:00, 51.48it/s, Loss=0.316]\n",
      "Testing: 100%|██████████| 100/100 [00:00<00:00, 230.16it/s]"
     ]
    },
    {
     "name": "stdout",
     "output_type": "stream",
     "text": [
      "Test Accuracy: 83.41%\n"
     ]
    },
    {
     "name": "stderr",
     "output_type": "stream",
     "text": [
      "\n",
      "Epoch 67: 100%|██████████| 500/500 [00:09<00:00, 51.60it/s, Loss=0.308]\n",
      "Testing: 100%|██████████| 100/100 [00:00<00:00, 233.27it/s]"
     ]
    },
    {
     "name": "stdout",
     "output_type": "stream",
     "text": [
      "Test Accuracy: 82.84%\n"
     ]
    },
    {
     "name": "stderr",
     "output_type": "stream",
     "text": [
      "\n",
      "Epoch 68: 100%|██████████| 500/500 [00:09<00:00, 51.43it/s, Loss=0.431]\n",
      "Testing: 100%|██████████| 100/100 [00:00<00:00, 230.44it/s]"
     ]
    },
    {
     "name": "stdout",
     "output_type": "stream",
     "text": [
      "Test Accuracy: 83.29%\n"
     ]
    },
    {
     "name": "stderr",
     "output_type": "stream",
     "text": [
      "\n",
      "Epoch 69: 100%|██████████| 500/500 [00:09<00:00, 51.51it/s, Loss=0.293]\n",
      "Testing: 100%|██████████| 100/100 [00:00<00:00, 229.37it/s]"
     ]
    },
    {
     "name": "stdout",
     "output_type": "stream",
     "text": [
      "Test Accuracy: 82.99%\n"
     ]
    },
    {
     "name": "stderr",
     "output_type": "stream",
     "text": [
      "\n",
      "Epoch 70: 100%|██████████| 500/500 [00:09<00:00, 51.43it/s, Loss=0.298]\n",
      "Testing: 100%|██████████| 100/100 [00:00<00:00, 232.13it/s]"
     ]
    },
    {
     "name": "stdout",
     "output_type": "stream",
     "text": [
      "Test Accuracy: 83.37%\n"
     ]
    },
    {
     "name": "stderr",
     "output_type": "stream",
     "text": [
      "\n",
      "Epoch 71: 100%|██████████| 500/500 [00:09<00:00, 51.23it/s, Loss=0.285]\n",
      "Testing: 100%|██████████| 100/100 [00:00<00:00, 225.22it/s]"
     ]
    },
    {
     "name": "stdout",
     "output_type": "stream",
     "text": [
      "Test Accuracy: 83.55%\n"
     ]
    },
    {
     "name": "stderr",
     "output_type": "stream",
     "text": [
      "\n",
      "Epoch 72: 100%|██████████| 500/500 [00:09<00:00, 51.69it/s, Loss=0.296]\n",
      "Testing: 100%|██████████| 100/100 [00:00<00:00, 234.63it/s]"
     ]
    },
    {
     "name": "stdout",
     "output_type": "stream",
     "text": [
      "Test Accuracy: 83.63%\n"
     ]
    },
    {
     "name": "stderr",
     "output_type": "stream",
     "text": [
      "\n",
      "Epoch 73: 100%|██████████| 500/500 [00:09<00:00, 51.80it/s, Loss=0.294]\n",
      "Testing: 100%|██████████| 100/100 [00:00<00:00, 234.02it/s]"
     ]
    },
    {
     "name": "stdout",
     "output_type": "stream",
     "text": [
      "Test Accuracy: 83.42%\n"
     ]
    },
    {
     "name": "stderr",
     "output_type": "stream",
     "text": [
      "\n",
      "Epoch 74: 100%|██████████| 500/500 [00:09<00:00, 51.44it/s, Loss=0.28] \n",
      "Testing: 100%|██████████| 100/100 [00:00<00:00, 231.06it/s]"
     ]
    },
    {
     "name": "stdout",
     "output_type": "stream",
     "text": [
      "Test Accuracy: 83.39%\n"
     ]
    },
    {
     "name": "stderr",
     "output_type": "stream",
     "text": [
      "\n",
      "Epoch 75: 100%|██████████| 500/500 [00:09<00:00, 51.72it/s, Loss=0.294]\n",
      "Testing: 100%|██████████| 100/100 [00:00<00:00, 231.11it/s]"
     ]
    },
    {
     "name": "stdout",
     "output_type": "stream",
     "text": [
      "Test Accuracy: 83.16%\n"
     ]
    },
    {
     "name": "stderr",
     "output_type": "stream",
     "text": [
      "\n",
      "Epoch 76: 100%|██████████| 500/500 [00:09<00:00, 51.53it/s, Loss=0.272]\n",
      "Testing: 100%|██████████| 100/100 [00:00<00:00, 227.17it/s]"
     ]
    },
    {
     "name": "stdout",
     "output_type": "stream",
     "text": [
      "Test Accuracy: 83.21%\n"
     ]
    },
    {
     "name": "stderr",
     "output_type": "stream",
     "text": [
      "\n",
      "Epoch 77: 100%|██████████| 500/500 [00:09<00:00, 51.41it/s, Loss=0.267]\n",
      "Testing: 100%|██████████| 100/100 [00:00<00:00, 218.40it/s]"
     ]
    },
    {
     "name": "stdout",
     "output_type": "stream",
     "text": [
      "Test Accuracy: 84.23%\n"
     ]
    },
    {
     "name": "stderr",
     "output_type": "stream",
     "text": [
      "\n",
      "Epoch 78: 100%|██████████| 500/500 [00:09<00:00, 51.73it/s, Loss=0.281]\n",
      "Testing: 100%|██████████| 100/100 [00:00<00:00, 230.90it/s]"
     ]
    },
    {
     "name": "stdout",
     "output_type": "stream",
     "text": [
      "Test Accuracy: 83.28%\n"
     ]
    },
    {
     "name": "stderr",
     "output_type": "stream",
     "text": [
      "\n",
      "Epoch 79: 100%|██████████| 500/500 [00:09<00:00, 51.94it/s, Loss=0.284]\n",
      "Testing: 100%|██████████| 100/100 [00:00<00:00, 233.16it/s]"
     ]
    },
    {
     "name": "stdout",
     "output_type": "stream",
     "text": [
      "Test Accuracy: 83.39%\n"
     ]
    },
    {
     "name": "stderr",
     "output_type": "stream",
     "text": [
      "\n",
      "Epoch 80: 100%|██████████| 500/500 [00:09<00:00, 51.64it/s, Loss=0.291]\n",
      "Testing: 100%|██████████| 100/100 [00:00<00:00, 231.84it/s]"
     ]
    },
    {
     "name": "stdout",
     "output_type": "stream",
     "text": [
      "Test Accuracy: 83.55%\n"
     ]
    },
    {
     "name": "stderr",
     "output_type": "stream",
     "text": [
      "\n",
      "Epoch 81: 100%|██████████| 500/500 [00:09<00:00, 51.49it/s, Loss=0.266]\n",
      "Testing: 100%|██████████| 100/100 [00:00<00:00, 229.19it/s]"
     ]
    },
    {
     "name": "stdout",
     "output_type": "stream",
     "text": [
      "Test Accuracy: 83.34%\n"
     ]
    },
    {
     "name": "stderr",
     "output_type": "stream",
     "text": [
      "\n",
      "Epoch 82: 100%|██████████| 500/500 [00:09<00:00, 51.49it/s, Loss=0.273]\n",
      "Testing: 100%|██████████| 100/100 [00:00<00:00, 225.64it/s]"
     ]
    },
    {
     "name": "stdout",
     "output_type": "stream",
     "text": [
      "Test Accuracy: 83.52%\n"
     ]
    },
    {
     "name": "stderr",
     "output_type": "stream",
     "text": [
      "\n",
      "Epoch 83: 100%|██████████| 500/500 [00:09<00:00, 51.57it/s, Loss=0.248]\n",
      "Testing: 100%|██████████| 100/100 [00:00<00:00, 232.80it/s]"
     ]
    },
    {
     "name": "stdout",
     "output_type": "stream",
     "text": [
      "Test Accuracy: 84.30%\n"
     ]
    },
    {
     "name": "stderr",
     "output_type": "stream",
     "text": [
      "\n",
      "Epoch 84: 100%|██████████| 500/500 [00:09<00:00, 51.55it/s, Loss=0.259]\n",
      "Testing: 100%|██████████| 100/100 [00:00<00:00, 235.70it/s]"
     ]
    },
    {
     "name": "stdout",
     "output_type": "stream",
     "text": [
      "Test Accuracy: 83.71%\n"
     ]
    },
    {
     "name": "stderr",
     "output_type": "stream",
     "text": [
      "\n",
      "Epoch 85: 100%|██████████| 500/500 [00:09<00:00, 51.74it/s, Loss=0.269]\n",
      "Testing: 100%|██████████| 100/100 [00:00<00:00, 235.23it/s]"
     ]
    },
    {
     "name": "stdout",
     "output_type": "stream",
     "text": [
      "Test Accuracy: 84.15%\n"
     ]
    },
    {
     "name": "stderr",
     "output_type": "stream",
     "text": [
      "\n",
      "Epoch 86: 100%|██████████| 500/500 [00:09<00:00, 51.43it/s, Loss=0.248]\n",
      "Testing: 100%|██████████| 100/100 [00:00<00:00, 227.94it/s]"
     ]
    },
    {
     "name": "stdout",
     "output_type": "stream",
     "text": [
      "Test Accuracy: 83.98%\n"
     ]
    },
    {
     "name": "stderr",
     "output_type": "stream",
     "text": [
      "\n",
      "Epoch 87: 100%|██████████| 500/500 [00:09<00:00, 51.80it/s, Loss=0.261]\n",
      "Testing: 100%|██████████| 100/100 [00:00<00:00, 234.92it/s]"
     ]
    },
    {
     "name": "stdout",
     "output_type": "stream",
     "text": [
      "Test Accuracy: 83.86%\n"
     ]
    },
    {
     "name": "stderr",
     "output_type": "stream",
     "text": [
      "\n",
      "Epoch 88: 100%|██████████| 500/500 [00:09<00:00, 51.57it/s, Loss=0.254]\n",
      "Testing: 100%|██████████| 100/100 [00:00<00:00, 231.25it/s]"
     ]
    },
    {
     "name": "stdout",
     "output_type": "stream",
     "text": [
      "Test Accuracy: 83.42%\n"
     ]
    },
    {
     "name": "stderr",
     "output_type": "stream",
     "text": [
      "\n",
      "Epoch 89: 100%|██████████| 500/500 [00:09<00:00, 51.49it/s, Loss=0.277]\n",
      "Testing: 100%|██████████| 100/100 [00:00<00:00, 233.31it/s]"
     ]
    },
    {
     "name": "stdout",
     "output_type": "stream",
     "text": [
      "Test Accuracy: 83.89%\n"
     ]
    },
    {
     "name": "stderr",
     "output_type": "stream",
     "text": [
      "\n",
      "Epoch 90: 100%|██████████| 500/500 [00:09<00:00, 51.66it/s, Loss=0.265]\n",
      "Testing: 100%|██████████| 100/100 [00:00<00:00, 235.10it/s]"
     ]
    },
    {
     "name": "stdout",
     "output_type": "stream",
     "text": [
      "Test Accuracy: 83.52%\n"
     ]
    },
    {
     "name": "stderr",
     "output_type": "stream",
     "text": [
      "\n",
      "Epoch 91: 100%|██████████| 500/500 [00:09<00:00, 51.74it/s, Loss=0.247]\n",
      "Testing: 100%|██████████| 100/100 [00:00<00:00, 233.50it/s]"
     ]
    },
    {
     "name": "stdout",
     "output_type": "stream",
     "text": [
      "Test Accuracy: 83.97%\n"
     ]
    },
    {
     "name": "stderr",
     "output_type": "stream",
     "text": [
      "\n",
      "Epoch 92: 100%|██████████| 500/500 [00:09<00:00, 51.52it/s, Loss=0.265]\n",
      "Testing: 100%|██████████| 100/100 [00:00<00:00, 230.25it/s]"
     ]
    },
    {
     "name": "stdout",
     "output_type": "stream",
     "text": [
      "Test Accuracy: 83.82%\n"
     ]
    },
    {
     "name": "stderr",
     "output_type": "stream",
     "text": [
      "\n",
      "Epoch 93: 100%|██████████| 500/500 [00:09<00:00, 51.71it/s, Loss=0.236]\n",
      "Testing: 100%|██████████| 100/100 [00:00<00:00, 229.01it/s]"
     ]
    },
    {
     "name": "stdout",
     "output_type": "stream",
     "text": [
      "Test Accuracy: 82.32%\n"
     ]
    },
    {
     "name": "stderr",
     "output_type": "stream",
     "text": [
      "\n",
      "Epoch 94: 100%|██████████| 500/500 [00:09<00:00, 51.53it/s, Loss=0.249]\n",
      "Testing: 100%|██████████| 100/100 [00:00<00:00, 237.06it/s]"
     ]
    },
    {
     "name": "stdout",
     "output_type": "stream",
     "text": [
      "Test Accuracy: 83.94%\n"
     ]
    },
    {
     "name": "stderr",
     "output_type": "stream",
     "text": [
      "\n",
      "Epoch 95: 100%|██████████| 500/500 [00:09<00:00, 51.66it/s, Loss=0.245]\n",
      "Testing: 100%|██████████| 100/100 [00:00<00:00, 231.76it/s]"
     ]
    },
    {
     "name": "stdout",
     "output_type": "stream",
     "text": [
      "Test Accuracy: 84.12%\n"
     ]
    },
    {
     "name": "stderr",
     "output_type": "stream",
     "text": [
      "\n",
      "Epoch 96: 100%|██████████| 500/500 [00:09<00:00, 51.61it/s, Loss=0.247]\n",
      "Testing: 100%|██████████| 100/100 [00:00<00:00, 230.80it/s]"
     ]
    },
    {
     "name": "stdout",
     "output_type": "stream",
     "text": [
      "Test Accuracy: 84.60%\n"
     ]
    },
    {
     "name": "stderr",
     "output_type": "stream",
     "text": [
      "\n",
      "Epoch 97: 100%|██████████| 500/500 [00:09<00:00, 51.46it/s, Loss=0.234]\n",
      "Testing: 100%|██████████| 100/100 [00:00<00:00, 229.94it/s]"
     ]
    },
    {
     "name": "stdout",
     "output_type": "stream",
     "text": [
      "Test Accuracy: 84.53%\n"
     ]
    },
    {
     "name": "stderr",
     "output_type": "stream",
     "text": [
      "\n",
      "Epoch 98: 100%|██████████| 500/500 [00:09<00:00, 51.36it/s, Loss=0.24] \n",
      "Testing: 100%|██████████| 100/100 [00:00<00:00, 231.54it/s]"
     ]
    },
    {
     "name": "stdout",
     "output_type": "stream",
     "text": [
      "Test Accuracy: 83.91%\n"
     ]
    },
    {
     "name": "stderr",
     "output_type": "stream",
     "text": [
      "\n",
      "Epoch 99: 100%|██████████| 500/500 [00:09<00:00, 51.58it/s, Loss=0.251]\n",
      "Testing: 100%|██████████| 100/100 [00:00<00:00, 232.31it/s]"
     ]
    },
    {
     "name": "stdout",
     "output_type": "stream",
     "text": [
      "Test Accuracy: 83.68%\n"
     ]
    },
    {
     "name": "stderr",
     "output_type": "stream",
     "text": [
      "\n",
      "Epoch 100: 100%|██████████| 500/500 [00:09<00:00, 51.85it/s, Loss=0.243]\n",
      "Testing: 100%|██████████| 100/100 [00:00<00:00, 229.59it/s]"
     ]
    },
    {
     "name": "stdout",
     "output_type": "stream",
     "text": [
      "Test Accuracy: 83.91%\n"
     ]
    },
    {
     "name": "stderr",
     "output_type": "stream",
     "text": [
      "\n",
      "Epoch 1: 100%|██████████| 500/500 [00:09<00:00, 51.47it/s, Loss=1.78]\n",
      "Testing: 100%|██████████| 100/100 [00:00<00:00, 233.85it/s]"
     ]
    },
    {
     "name": "stdout",
     "output_type": "stream",
     "text": [
      "Test Accuracy: 37.66%\n"
     ]
    },
    {
     "name": "stderr",
     "output_type": "stream",
     "text": [
      "\n",
      "Epoch 2: 100%|██████████| 500/500 [00:09<00:00, 51.70it/s, Loss=1.53]\n",
      "Testing: 100%|██████████| 100/100 [00:00<00:00, 232.03it/s]"
     ]
    },
    {
     "name": "stdout",
     "output_type": "stream",
     "text": [
      "Test Accuracy: 42.15%\n"
     ]
    },
    {
     "name": "stderr",
     "output_type": "stream",
     "text": [
      "\n",
      "Epoch 3: 100%|██████████| 500/500 [00:09<00:00, 51.51it/s, Loss=1.38]\n",
      "Testing: 100%|██████████| 100/100 [00:00<00:00, 232.60it/s]"
     ]
    },
    {
     "name": "stdout",
     "output_type": "stream",
     "text": [
      "Test Accuracy: 52.14%\n"
     ]
    },
    {
     "name": "stderr",
     "output_type": "stream",
     "text": [
      "\n",
      "Epoch 4: 100%|██████████| 500/500 [00:09<00:00, 51.43it/s, Loss=1.25]\n",
      "Testing: 100%|██████████| 100/100 [00:00<00:00, 230.80it/s]"
     ]
    },
    {
     "name": "stdout",
     "output_type": "stream",
     "text": [
      "Test Accuracy: 58.33%\n"
     ]
    },
    {
     "name": "stderr",
     "output_type": "stream",
     "text": [
      "\n",
      "Epoch 5: 100%|██████████| 500/500 [00:09<00:00, 51.58it/s, Loss=1.14]\n",
      "Testing: 100%|██████████| 100/100 [00:00<00:00, 230.53it/s]"
     ]
    },
    {
     "name": "stdout",
     "output_type": "stream",
     "text": [
      "Test Accuracy: 61.69%\n"
     ]
    },
    {
     "name": "stderr",
     "output_type": "stream",
     "text": [
      "\n",
      "Epoch 6: 100%|██████████| 500/500 [00:09<00:00, 51.79it/s, Loss=1.06]\n",
      "Testing: 100%|██████████| 100/100 [00:00<00:00, 236.34it/s]"
     ]
    },
    {
     "name": "stdout",
     "output_type": "stream",
     "text": [
      "Test Accuracy: 64.99%\n"
     ]
    },
    {
     "name": "stderr",
     "output_type": "stream",
     "text": [
      "\n",
      "Epoch 7: 100%|██████████| 500/500 [00:09<00:00, 51.46it/s, Loss=0.98] \n",
      "Testing: 100%|██████████| 100/100 [00:00<00:00, 228.67it/s]"
     ]
    },
    {
     "name": "stdout",
     "output_type": "stream",
     "text": [
      "Test Accuracy: 65.90%\n"
     ]
    },
    {
     "name": "stderr",
     "output_type": "stream",
     "text": [
      "\n",
      "Epoch 8: 100%|██████████| 500/500 [00:09<00:00, 51.63it/s, Loss=0.943]\n",
      "Testing: 100%|██████████| 100/100 [00:00<00:00, 232.83it/s]"
     ]
    },
    {
     "name": "stdout",
     "output_type": "stream",
     "text": [
      "Test Accuracy: 66.64%\n"
     ]
    },
    {
     "name": "stderr",
     "output_type": "stream",
     "text": [
      "\n",
      "Epoch 9: 100%|██████████| 500/500 [00:09<00:00, 51.43it/s, Loss=0.89] \n",
      "Testing: 100%|██████████| 100/100 [00:00<00:00, 232.50it/s]"
     ]
    },
    {
     "name": "stdout",
     "output_type": "stream",
     "text": [
      "Test Accuracy: 72.68%\n"
     ]
    },
    {
     "name": "stderr",
     "output_type": "stream",
     "text": [
      "\n",
      "Epoch 10: 100%|██████████| 500/500 [00:09<00:00, 51.38it/s, Loss=0.799]\n",
      "Testing: 100%|██████████| 100/100 [00:00<00:00, 229.87it/s]"
     ]
    },
    {
     "name": "stdout",
     "output_type": "stream",
     "text": [
      "Test Accuracy: 72.42%\n"
     ]
    },
    {
     "name": "stderr",
     "output_type": "stream",
     "text": [
      "\n",
      "Epoch 11: 100%|██████████| 500/500 [00:09<00:00, 51.60it/s, Loss=0.781]\n",
      "Testing: 100%|██████████| 100/100 [00:00<00:00, 236.15it/s]"
     ]
    },
    {
     "name": "stdout",
     "output_type": "stream",
     "text": [
      "Test Accuracy: 72.99%\n"
     ]
    },
    {
     "name": "stderr",
     "output_type": "stream",
     "text": [
      "\n",
      "Epoch 12: 100%|██████████| 500/500 [00:09<00:00, 51.93it/s, Loss=0.735]\n",
      "Testing: 100%|██████████| 100/100 [00:00<00:00, 232.54it/s]"
     ]
    },
    {
     "name": "stdout",
     "output_type": "stream",
     "text": [
      "Test Accuracy: 71.36%\n"
     ]
    },
    {
     "name": "stderr",
     "output_type": "stream",
     "text": [
      "\n",
      "Epoch 13: 100%|██████████| 500/500 [00:09<00:00, 51.61it/s, Loss=0.709]\n",
      "Testing: 100%|██████████| 100/100 [00:00<00:00, 235.89it/s]"
     ]
    },
    {
     "name": "stdout",
     "output_type": "stream",
     "text": [
      "Test Accuracy: 75.64%\n"
     ]
    },
    {
     "name": "stderr",
     "output_type": "stream",
     "text": [
      "\n",
      "Epoch 14: 100%|██████████| 500/500 [00:09<00:00, 51.56it/s, Loss=0.679]\n",
      "Testing: 100%|██████████| 100/100 [00:00<00:00, 229.38it/s]"
     ]
    },
    {
     "name": "stdout",
     "output_type": "stream",
     "text": [
      "Test Accuracy: 77.53%\n"
     ]
    },
    {
     "name": "stderr",
     "output_type": "stream",
     "text": [
      "\n",
      "Epoch 15: 100%|██████████| 500/500 [00:09<00:00, 51.53it/s, Loss=0.651]\n",
      "Testing: 100%|██████████| 100/100 [00:00<00:00, 235.27it/s]"
     ]
    },
    {
     "name": "stdout",
     "output_type": "stream",
     "text": [
      "Test Accuracy: 76.39%\n"
     ]
    },
    {
     "name": "stderr",
     "output_type": "stream",
     "text": [
      "\n",
      "Epoch 16: 100%|██████████| 500/500 [00:09<00:00, 51.73it/s, Loss=0.614]\n",
      "Testing: 100%|██████████| 100/100 [00:00<00:00, 235.56it/s]"
     ]
    },
    {
     "name": "stdout",
     "output_type": "stream",
     "text": [
      "Test Accuracy: 77.21%\n"
     ]
    },
    {
     "name": "stderr",
     "output_type": "stream",
     "text": [
      "\n",
      "Epoch 17: 100%|██████████| 500/500 [00:09<00:00, 51.79it/s, Loss=0.582]\n",
      "Testing: 100%|██████████| 100/100 [00:00<00:00, 229.05it/s]"
     ]
    },
    {
     "name": "stdout",
     "output_type": "stream",
     "text": [
      "Test Accuracy: 79.72%\n"
     ]
    },
    {
     "name": "stderr",
     "output_type": "stream",
     "text": [
      "\n",
      "Epoch 18: 100%|██████████| 500/500 [00:09<00:00, 51.66it/s, Loss=0.567]\n",
      "Testing: 100%|██████████| 100/100 [00:00<00:00, 232.32it/s]"
     ]
    },
    {
     "name": "stdout",
     "output_type": "stream",
     "text": [
      "Test Accuracy: 79.23%\n"
     ]
    },
    {
     "name": "stderr",
     "output_type": "stream",
     "text": [
      "\n",
      "Epoch 19: 100%|██████████| 500/500 [00:09<00:00, 51.46it/s, Loss=0.552]\n",
      "Testing: 100%|██████████| 100/100 [00:00<00:00, 227.97it/s]"
     ]
    },
    {
     "name": "stdout",
     "output_type": "stream",
     "text": [
      "Test Accuracy: 80.15%\n"
     ]
    },
    {
     "name": "stderr",
     "output_type": "stream",
     "text": [
      "\n",
      "Epoch 20: 100%|██████████| 500/500 [00:09<00:00, 51.64it/s, Loss=0.523]\n",
      "Testing: 100%|██████████| 100/100 [00:00<00:00, 230.57it/s]"
     ]
    },
    {
     "name": "stdout",
     "output_type": "stream",
     "text": [
      "Test Accuracy: 79.72%\n"
     ]
    },
    {
     "name": "stderr",
     "output_type": "stream",
     "text": [
      "\n",
      "Epoch 21: 100%|██████████| 500/500 [00:09<00:00, 51.54it/s, Loss=0.503]\n",
      "Testing: 100%|██████████| 100/100 [00:00<00:00, 230.03it/s]"
     ]
    },
    {
     "name": "stdout",
     "output_type": "stream",
     "text": [
      "Test Accuracy: 80.84%\n"
     ]
    },
    {
     "name": "stderr",
     "output_type": "stream",
     "text": [
      "\n",
      "Epoch 22: 100%|██████████| 500/500 [00:09<00:00, 51.66it/s, Loss=0.493]\n",
      "Testing: 100%|██████████| 100/100 [00:00<00:00, 226.44it/s]"
     ]
    },
    {
     "name": "stdout",
     "output_type": "stream",
     "text": [
      "Test Accuracy: 80.49%\n"
     ]
    },
    {
     "name": "stderr",
     "output_type": "stream",
     "text": [
      "\n",
      "Epoch 23: 100%|██████████| 500/500 [00:09<00:00, 51.39it/s, Loss=0.46] \n",
      "Testing: 100%|██████████| 100/100 [00:00<00:00, 233.91it/s]"
     ]
    },
    {
     "name": "stdout",
     "output_type": "stream",
     "text": [
      "Test Accuracy: 81.13%\n"
     ]
    },
    {
     "name": "stderr",
     "output_type": "stream",
     "text": [
      "\n",
      "Epoch 24: 100%|██████████| 500/500 [00:09<00:00, 51.72it/s, Loss=0.45] \n",
      "Testing: 100%|██████████| 100/100 [00:00<00:00, 225.92it/s]"
     ]
    },
    {
     "name": "stdout",
     "output_type": "stream",
     "text": [
      "Test Accuracy: 80.98%\n"
     ]
    },
    {
     "name": "stderr",
     "output_type": "stream",
     "text": [
      "\n",
      "Epoch 25: 100%|██████████| 500/500 [00:09<00:00, 51.29it/s, Loss=0.431]\n",
      "Testing: 100%|██████████| 100/100 [00:00<00:00, 231.61it/s]"
     ]
    },
    {
     "name": "stdout",
     "output_type": "stream",
     "text": [
      "Test Accuracy: 81.79%\n"
     ]
    },
    {
     "name": "stderr",
     "output_type": "stream",
     "text": [
      "\n",
      "Epoch 26: 100%|██████████| 500/500 [00:09<00:00, 51.65it/s, Loss=0.425]\n",
      "Testing: 100%|██████████| 100/100 [00:00<00:00, 232.06it/s]"
     ]
    },
    {
     "name": "stdout",
     "output_type": "stream",
     "text": [
      "Test Accuracy: 82.11%\n"
     ]
    },
    {
     "name": "stderr",
     "output_type": "stream",
     "text": [
      "\n",
      "Epoch 27: 100%|██████████| 500/500 [00:09<00:00, 51.63it/s, Loss=0.4]  \n",
      "Testing: 100%|██████████| 100/100 [00:00<00:00, 230.63it/s]"
     ]
    },
    {
     "name": "stdout",
     "output_type": "stream",
     "text": [
      "Test Accuracy: 81.27%\n"
     ]
    },
    {
     "name": "stderr",
     "output_type": "stream",
     "text": [
      "\n",
      "Epoch 28: 100%|██████████| 500/500 [00:09<00:00, 51.17it/s, Loss=0.391]\n",
      "Testing: 100%|██████████| 100/100 [00:00<00:00, 228.97it/s]"
     ]
    },
    {
     "name": "stdout",
     "output_type": "stream",
     "text": [
      "Test Accuracy: 82.16%\n"
     ]
    },
    {
     "name": "stderr",
     "output_type": "stream",
     "text": [
      "\n",
      "Epoch 29: 100%|██████████| 500/500 [00:09<00:00, 51.36it/s, Loss=0.364]\n",
      "Testing: 100%|██████████| 100/100 [00:00<00:00, 229.94it/s]"
     ]
    },
    {
     "name": "stdout",
     "output_type": "stream",
     "text": [
      "Test Accuracy: 82.67%\n"
     ]
    },
    {
     "name": "stderr",
     "output_type": "stream",
     "text": [
      "\n",
      "Epoch 30: 100%|██████████| 500/500 [00:09<00:00, 51.59it/s, Loss=0.341]\n",
      "Testing: 100%|██████████| 100/100 [00:00<00:00, 233.70it/s]"
     ]
    },
    {
     "name": "stdout",
     "output_type": "stream",
     "text": [
      "Test Accuracy: 82.62%\n"
     ]
    },
    {
     "name": "stderr",
     "output_type": "stream",
     "text": [
      "\n",
      "Epoch 31: 100%|██████████| 500/500 [00:09<00:00, 51.28it/s, Loss=0.343]\n",
      "Testing: 100%|██████████| 100/100 [00:00<00:00, 232.58it/s]"
     ]
    },
    {
     "name": "stdout",
     "output_type": "stream",
     "text": [
      "Test Accuracy: 83.22%\n"
     ]
    },
    {
     "name": "stderr",
     "output_type": "stream",
     "text": [
      "\n",
      "Epoch 32: 100%|██████████| 500/500 [00:09<00:00, 51.34it/s, Loss=0.34] \n",
      "Testing: 100%|██████████| 100/100 [00:00<00:00, 234.36it/s]"
     ]
    },
    {
     "name": "stdout",
     "output_type": "stream",
     "text": [
      "Test Accuracy: 83.19%\n"
     ]
    },
    {
     "name": "stderr",
     "output_type": "stream",
     "text": [
      "\n",
      "Epoch 33: 100%|██████████| 500/500 [00:09<00:00, 51.50it/s, Loss=0.322]\n",
      "Testing: 100%|██████████| 100/100 [00:00<00:00, 231.68it/s]"
     ]
    },
    {
     "name": "stdout",
     "output_type": "stream",
     "text": [
      "Test Accuracy: 82.16%\n"
     ]
    },
    {
     "name": "stderr",
     "output_type": "stream",
     "text": [
      "\n",
      "Epoch 34: 100%|██████████| 500/500 [00:09<00:00, 51.51it/s, Loss=0.31] \n",
      "Testing: 100%|██████████| 100/100 [00:00<00:00, 230.78it/s]"
     ]
    },
    {
     "name": "stdout",
     "output_type": "stream",
     "text": [
      "Test Accuracy: 83.23%\n"
     ]
    },
    {
     "name": "stderr",
     "output_type": "stream",
     "text": [
      "\n",
      "Epoch 35: 100%|██████████| 500/500 [00:09<00:00, 51.38it/s, Loss=0.289]\n",
      "Testing: 100%|██████████| 100/100 [00:00<00:00, 231.15it/s]"
     ]
    },
    {
     "name": "stdout",
     "output_type": "stream",
     "text": [
      "Test Accuracy: 82.96%\n"
     ]
    },
    {
     "name": "stderr",
     "output_type": "stream",
     "text": [
      "\n",
      "Epoch 36: 100%|██████████| 500/500 [00:09<00:00, 51.38it/s, Loss=0.294]\n",
      "Testing: 100%|██████████| 100/100 [00:00<00:00, 229.22it/s]"
     ]
    },
    {
     "name": "stdout",
     "output_type": "stream",
     "text": [
      "Test Accuracy: 83.47%\n"
     ]
    },
    {
     "name": "stderr",
     "output_type": "stream",
     "text": [
      "\n",
      "Epoch 37: 100%|██████████| 500/500 [00:09<00:00, 51.65it/s, Loss=0.263]\n",
      "Testing: 100%|██████████| 100/100 [00:00<00:00, 237.72it/s]"
     ]
    },
    {
     "name": "stdout",
     "output_type": "stream",
     "text": [
      "Test Accuracy: 82.64%\n"
     ]
    },
    {
     "name": "stderr",
     "output_type": "stream",
     "text": [
      "\n",
      "Epoch 38: 100%|██████████| 500/500 [00:09<00:00, 51.83it/s, Loss=0.255]\n",
      "Testing: 100%|██████████| 100/100 [00:00<00:00, 227.63it/s]"
     ]
    },
    {
     "name": "stdout",
     "output_type": "stream",
     "text": [
      "Test Accuracy: 83.53%\n"
     ]
    },
    {
     "name": "stderr",
     "output_type": "stream",
     "text": [
      "\n",
      "Epoch 39: 100%|██████████| 500/500 [00:09<00:00, 51.71it/s, Loss=0.266]\n",
      "Testing: 100%|██████████| 100/100 [00:00<00:00, 232.52it/s]"
     ]
    },
    {
     "name": "stdout",
     "output_type": "stream",
     "text": [
      "Test Accuracy: 83.06%\n"
     ]
    },
    {
     "name": "stderr",
     "output_type": "stream",
     "text": [
      "\n",
      "Epoch 40: 100%|██████████| 500/500 [00:09<00:00, 51.77it/s, Loss=0.246]\n",
      "Testing: 100%|██████████| 100/100 [00:00<00:00, 234.43it/s]"
     ]
    },
    {
     "name": "stdout",
     "output_type": "stream",
     "text": [
      "Test Accuracy: 83.76%\n"
     ]
    },
    {
     "name": "stderr",
     "output_type": "stream",
     "text": [
      "\n",
      "Epoch 41: 100%|██████████| 500/500 [00:09<00:00, 51.55it/s, Loss=0.245]\n",
      "Testing: 100%|██████████| 100/100 [00:00<00:00, 233.04it/s]"
     ]
    },
    {
     "name": "stdout",
     "output_type": "stream",
     "text": [
      "Test Accuracy: 83.49%\n"
     ]
    },
    {
     "name": "stderr",
     "output_type": "stream",
     "text": [
      "\n",
      "Epoch 42: 100%|██████████| 500/500 [00:09<00:00, 51.38it/s, Loss=0.223]\n",
      "Testing: 100%|██████████| 100/100 [00:00<00:00, 230.83it/s]"
     ]
    },
    {
     "name": "stdout",
     "output_type": "stream",
     "text": [
      "Test Accuracy: 83.52%\n"
     ]
    },
    {
     "name": "stderr",
     "output_type": "stream",
     "text": [
      "\n",
      "Epoch 43: 100%|██████████| 500/500 [00:09<00:00, 51.73it/s, Loss=0.228]\n",
      "Testing: 100%|██████████| 100/100 [00:00<00:00, 231.74it/s]"
     ]
    },
    {
     "name": "stdout",
     "output_type": "stream",
     "text": [
      "Test Accuracy: 83.25%\n"
     ]
    },
    {
     "name": "stderr",
     "output_type": "stream",
     "text": [
      "\n",
      "Epoch 44: 100%|██████████| 500/500 [00:09<00:00, 51.35it/s, Loss=0.225]\n",
      "Testing: 100%|██████████| 100/100 [00:00<00:00, 227.97it/s]"
     ]
    },
    {
     "name": "stdout",
     "output_type": "stream",
     "text": [
      "Test Accuracy: 83.26%\n"
     ]
    },
    {
     "name": "stderr",
     "output_type": "stream",
     "text": [
      "\n",
      "Epoch 45: 100%|██████████| 500/500 [00:09<00:00, 51.38it/s, Loss=0.206]\n",
      "Testing: 100%|██████████| 100/100 [00:00<00:00, 232.03it/s]"
     ]
    },
    {
     "name": "stdout",
     "output_type": "stream",
     "text": [
      "Test Accuracy: 83.58%\n"
     ]
    },
    {
     "name": "stderr",
     "output_type": "stream",
     "text": [
      "\n",
      "Epoch 46: 100%|██████████| 500/500 [00:09<00:00, 51.78it/s, Loss=0.213]\n",
      "Testing: 100%|██████████| 100/100 [00:00<00:00, 231.99it/s]"
     ]
    },
    {
     "name": "stdout",
     "output_type": "stream",
     "text": [
      "Test Accuracy: 83.33%\n"
     ]
    },
    {
     "name": "stderr",
     "output_type": "stream",
     "text": [
      "\n",
      "Epoch 47: 100%|██████████| 500/500 [00:09<00:00, 51.80it/s, Loss=0.21] \n",
      "Testing: 100%|██████████| 100/100 [00:00<00:00, 230.35it/s]"
     ]
    },
    {
     "name": "stdout",
     "output_type": "stream",
     "text": [
      "Test Accuracy: 84.34%\n"
     ]
    },
    {
     "name": "stderr",
     "output_type": "stream",
     "text": [
      "\n",
      "Epoch 48: 100%|██████████| 500/500 [00:09<00:00, 51.60it/s, Loss=0.185]\n",
      "Testing: 100%|██████████| 100/100 [00:00<00:00, 227.62it/s]"
     ]
    },
    {
     "name": "stdout",
     "output_type": "stream",
     "text": [
      "Test Accuracy: 84.13%\n"
     ]
    },
    {
     "name": "stderr",
     "output_type": "stream",
     "text": [
      "\n",
      "Epoch 49: 100%|██████████| 500/500 [00:09<00:00, 51.50it/s, Loss=0.19] \n",
      "Testing: 100%|██████████| 100/100 [00:00<00:00, 232.14it/s]"
     ]
    },
    {
     "name": "stdout",
     "output_type": "stream",
     "text": [
      "Test Accuracy: 83.78%\n"
     ]
    },
    {
     "name": "stderr",
     "output_type": "stream",
     "text": [
      "\n",
      "Epoch 50: 100%|██████████| 500/500 [00:09<00:00, 51.59it/s, Loss=0.181]\n",
      "Testing: 100%|██████████| 100/100 [00:00<00:00, 228.29it/s]"
     ]
    },
    {
     "name": "stdout",
     "output_type": "stream",
     "text": [
      "Test Accuracy: 83.99%\n"
     ]
    },
    {
     "name": "stderr",
     "output_type": "stream",
     "text": [
      "\n",
      "Epoch 51: 100%|██████████| 500/500 [00:09<00:00, 51.51it/s, Loss=0.183]\n",
      "Testing: 100%|██████████| 100/100 [00:00<00:00, 230.39it/s]"
     ]
    },
    {
     "name": "stdout",
     "output_type": "stream",
     "text": [
      "Test Accuracy: 84.16%\n"
     ]
    },
    {
     "name": "stderr",
     "output_type": "stream",
     "text": [
      "\n",
      "Epoch 52: 100%|██████████| 500/500 [00:09<00:00, 51.28it/s, Loss=0.168]\n",
      "Testing: 100%|██████████| 100/100 [00:00<00:00, 226.78it/s]"
     ]
    },
    {
     "name": "stdout",
     "output_type": "stream",
     "text": [
      "Test Accuracy: 84.36%\n"
     ]
    },
    {
     "name": "stderr",
     "output_type": "stream",
     "text": [
      "\n",
      "Epoch 53: 100%|██████████| 500/500 [00:09<00:00, 51.55it/s, Loss=0.161]\n",
      "Testing: 100%|██████████| 100/100 [00:00<00:00, 229.44it/s]"
     ]
    },
    {
     "name": "stdout",
     "output_type": "stream",
     "text": [
      "Test Accuracy: 84.12%\n"
     ]
    },
    {
     "name": "stderr",
     "output_type": "stream",
     "text": [
      "\n",
      "Epoch 54: 100%|██████████| 500/500 [00:09<00:00, 51.35it/s, Loss=0.16] \n",
      "Testing: 100%|██████████| 100/100 [00:00<00:00, 228.90it/s]"
     ]
    },
    {
     "name": "stdout",
     "output_type": "stream",
     "text": [
      "Test Accuracy: 83.76%\n"
     ]
    },
    {
     "name": "stderr",
     "output_type": "stream",
     "text": [
      "\n",
      "Epoch 55: 100%|██████████| 500/500 [00:09<00:00, 51.38it/s, Loss=0.158]\n",
      "Testing: 100%|██████████| 100/100 [00:00<00:00, 230.94it/s]"
     ]
    },
    {
     "name": "stdout",
     "output_type": "stream",
     "text": [
      "Test Accuracy: 83.24%\n"
     ]
    },
    {
     "name": "stderr",
     "output_type": "stream",
     "text": [
      "\n",
      "Epoch 56: 100%|██████████| 500/500 [00:09<00:00, 51.58it/s, Loss=0.166]\n",
      "Testing: 100%|██████████| 100/100 [00:00<00:00, 225.80it/s]"
     ]
    },
    {
     "name": "stdout",
     "output_type": "stream",
     "text": [
      "Test Accuracy: 83.60%\n"
     ]
    },
    {
     "name": "stderr",
     "output_type": "stream",
     "text": [
      "\n",
      "Epoch 57: 100%|██████████| 500/500 [00:09<00:00, 51.54it/s, Loss=0.163]\n",
      "Testing: 100%|██████████| 100/100 [00:00<00:00, 227.92it/s]"
     ]
    },
    {
     "name": "stdout",
     "output_type": "stream",
     "text": [
      "Test Accuracy: 83.94%\n"
     ]
    },
    {
     "name": "stderr",
     "output_type": "stream",
     "text": [
      "\n",
      "Epoch 58: 100%|██████████| 500/500 [00:09<00:00, 51.31it/s, Loss=0.146]\n",
      "Testing: 100%|██████████| 100/100 [00:00<00:00, 233.71it/s]"
     ]
    },
    {
     "name": "stdout",
     "output_type": "stream",
     "text": [
      "Test Accuracy: 84.86%\n"
     ]
    },
    {
     "name": "stderr",
     "output_type": "stream",
     "text": [
      "\n",
      "Epoch 59: 100%|██████████| 500/500 [00:09<00:00, 51.65it/s, Loss=0.14] \n",
      "Testing: 100%|██████████| 100/100 [00:00<00:00, 230.89it/s]"
     ]
    },
    {
     "name": "stdout",
     "output_type": "stream",
     "text": [
      "Test Accuracy: 84.39%\n"
     ]
    },
    {
     "name": "stderr",
     "output_type": "stream",
     "text": [
      "\n",
      "Epoch 60: 100%|██████████| 500/500 [00:09<00:00, 51.31it/s, Loss=0.142]\n",
      "Testing: 100%|██████████| 100/100 [00:00<00:00, 232.25it/s]"
     ]
    },
    {
     "name": "stdout",
     "output_type": "stream",
     "text": [
      "Test Accuracy: 83.76%\n"
     ]
    },
    {
     "name": "stderr",
     "output_type": "stream",
     "text": [
      "\n",
      "Epoch 61: 100%|██████████| 500/500 [00:09<00:00, 51.38it/s, Loss=0.138]\n",
      "Testing: 100%|██████████| 100/100 [00:00<00:00, 227.68it/s]"
     ]
    },
    {
     "name": "stdout",
     "output_type": "stream",
     "text": [
      "Test Accuracy: 84.06%\n"
     ]
    },
    {
     "name": "stderr",
     "output_type": "stream",
     "text": [
      "\n",
      "Epoch 62: 100%|██████████| 500/500 [00:09<00:00, 51.33it/s, Loss=0.139]\n",
      "Testing: 100%|██████████| 100/100 [00:00<00:00, 226.84it/s]"
     ]
    },
    {
     "name": "stdout",
     "output_type": "stream",
     "text": [
      "Test Accuracy: 84.10%\n"
     ]
    },
    {
     "name": "stderr",
     "output_type": "stream",
     "text": [
      "\n",
      "Epoch 63: 100%|██████████| 500/500 [00:09<00:00, 51.42it/s, Loss=0.117]\n",
      "Testing: 100%|██████████| 100/100 [00:00<00:00, 231.68it/s]"
     ]
    },
    {
     "name": "stdout",
     "output_type": "stream",
     "text": [
      "Test Accuracy: 83.08%\n"
     ]
    },
    {
     "name": "stderr",
     "output_type": "stream",
     "text": [
      "\n",
      "Epoch 64: 100%|██████████| 500/500 [00:09<00:00, 51.30it/s, Loss=0.13] \n",
      "Testing: 100%|██████████| 100/100 [00:00<00:00, 229.00it/s]"
     ]
    },
    {
     "name": "stdout",
     "output_type": "stream",
     "text": [
      "Test Accuracy: 83.99%\n"
     ]
    },
    {
     "name": "stderr",
     "output_type": "stream",
     "text": [
      "\n",
      "Epoch 65: 100%|██████████| 500/500 [00:09<00:00, 51.29it/s, Loss=0.127]\n",
      "Testing: 100%|██████████| 100/100 [00:00<00:00, 231.10it/s]"
     ]
    },
    {
     "name": "stdout",
     "output_type": "stream",
     "text": [
      "Test Accuracy: 84.37%\n"
     ]
    },
    {
     "name": "stderr",
     "output_type": "stream",
     "text": [
      "\n",
      "Epoch 66: 100%|██████████| 500/500 [00:09<00:00, 51.62it/s, Loss=0.124]\n",
      "Testing: 100%|██████████| 100/100 [00:00<00:00, 232.28it/s]"
     ]
    },
    {
     "name": "stdout",
     "output_type": "stream",
     "text": [
      "Test Accuracy: 83.21%\n"
     ]
    },
    {
     "name": "stderr",
     "output_type": "stream",
     "text": [
      "\n",
      "Epoch 67: 100%|██████████| 500/500 [00:09<00:00, 51.56it/s, Loss=0.123]\n",
      "Testing: 100%|██████████| 100/100 [00:00<00:00, 228.03it/s]"
     ]
    },
    {
     "name": "stdout",
     "output_type": "stream",
     "text": [
      "Test Accuracy: 83.35%\n"
     ]
    },
    {
     "name": "stderr",
     "output_type": "stream",
     "text": [
      "\n",
      "Epoch 68: 100%|██████████| 500/500 [00:09<00:00, 51.55it/s, Loss=0.116]\n",
      "Testing: 100%|██████████| 100/100 [00:00<00:00, 235.90it/s]"
     ]
    },
    {
     "name": "stdout",
     "output_type": "stream",
     "text": [
      "Test Accuracy: 84.35%\n"
     ]
    },
    {
     "name": "stderr",
     "output_type": "stream",
     "text": [
      "\n",
      "Epoch 69: 100%|██████████| 500/500 [00:09<00:00, 51.67it/s, Loss=0.114]\n",
      "Testing: 100%|██████████| 100/100 [00:00<00:00, 227.44it/s]"
     ]
    },
    {
     "name": "stdout",
     "output_type": "stream",
     "text": [
      "Test Accuracy: 84.35%\n"
     ]
    },
    {
     "name": "stderr",
     "output_type": "stream",
     "text": [
      "\n",
      "Epoch 70: 100%|██████████| 500/500 [00:09<00:00, 51.58it/s, Loss=0.116]\n",
      "Testing: 100%|██████████| 100/100 [00:00<00:00, 231.30it/s]"
     ]
    },
    {
     "name": "stdout",
     "output_type": "stream",
     "text": [
      "Test Accuracy: 84.83%\n"
     ]
    },
    {
     "name": "stderr",
     "output_type": "stream",
     "text": [
      "\n",
      "Epoch 71: 100%|██████████| 500/500 [00:09<00:00, 51.01it/s, Loss=0.111]\n",
      "Testing: 100%|██████████| 100/100 [00:00<00:00, 232.50it/s]"
     ]
    },
    {
     "name": "stdout",
     "output_type": "stream",
     "text": [
      "Test Accuracy: 84.60%\n"
     ]
    },
    {
     "name": "stderr",
     "output_type": "stream",
     "text": [
      "\n",
      "Epoch 72: 100%|██████████| 500/500 [00:09<00:00, 51.37it/s, Loss=0.11] \n",
      "Testing: 100%|██████████| 100/100 [00:00<00:00, 231.80it/s]"
     ]
    },
    {
     "name": "stdout",
     "output_type": "stream",
     "text": [
      "Test Accuracy: 84.28%\n"
     ]
    },
    {
     "name": "stderr",
     "output_type": "stream",
     "text": [
      "\n",
      "Epoch 73: 100%|██████████| 500/500 [00:09<00:00, 51.34it/s, Loss=0.108] \n",
      "Testing: 100%|██████████| 100/100 [00:00<00:00, 230.14it/s]"
     ]
    },
    {
     "name": "stdout",
     "output_type": "stream",
     "text": [
      "Test Accuracy: 84.65%\n"
     ]
    },
    {
     "name": "stderr",
     "output_type": "stream",
     "text": [
      "\n",
      "Epoch 74: 100%|██████████| 500/500 [00:09<00:00, 51.65it/s, Loss=0.0972]\n",
      "Testing: 100%|██████████| 100/100 [00:00<00:00, 229.68it/s]"
     ]
    },
    {
     "name": "stdout",
     "output_type": "stream",
     "text": [
      "Test Accuracy: 84.87%\n"
     ]
    },
    {
     "name": "stderr",
     "output_type": "stream",
     "text": [
      "\n",
      "Epoch 75: 100%|██████████| 500/500 [00:09<00:00, 51.49it/s, Loss=0.1]   \n",
      "Testing: 100%|██████████| 100/100 [00:00<00:00, 232.21it/s]"
     ]
    },
    {
     "name": "stdout",
     "output_type": "stream",
     "text": [
      "Test Accuracy: 84.31%\n"
     ]
    },
    {
     "name": "stderr",
     "output_type": "stream",
     "text": [
      "\n",
      "Epoch 76: 100%|██████████| 500/500 [00:09<00:00, 51.76it/s, Loss=0.111] \n",
      "Testing: 100%|██████████| 100/100 [00:00<00:00, 227.74it/s]"
     ]
    },
    {
     "name": "stdout",
     "output_type": "stream",
     "text": [
      "Test Accuracy: 84.51%\n"
     ]
    },
    {
     "name": "stderr",
     "output_type": "stream",
     "text": [
      "\n",
      "Epoch 77: 100%|██████████| 500/500 [00:09<00:00, 51.56it/s, Loss=0.118] \n",
      "Testing: 100%|██████████| 100/100 [00:00<00:00, 229.59it/s]"
     ]
    },
    {
     "name": "stdout",
     "output_type": "stream",
     "text": [
      "Test Accuracy: 85.01%\n"
     ]
    },
    {
     "name": "stderr",
     "output_type": "stream",
     "text": [
      "\n",
      "Epoch 78: 100%|██████████| 500/500 [00:09<00:00, 51.69it/s, Loss=0.103] \n",
      "Testing: 100%|██████████| 100/100 [00:00<00:00, 234.68it/s]"
     ]
    },
    {
     "name": "stdout",
     "output_type": "stream",
     "text": [
      "Test Accuracy: 84.31%\n"
     ]
    },
    {
     "name": "stderr",
     "output_type": "stream",
     "text": [
      "\n",
      "Epoch 79: 100%|██████████| 500/500 [00:09<00:00, 51.53it/s, Loss=0.0931]\n",
      "Testing: 100%|██████████| 100/100 [00:00<00:00, 232.13it/s]"
     ]
    },
    {
     "name": "stdout",
     "output_type": "stream",
     "text": [
      "Test Accuracy: 84.58%\n"
     ]
    },
    {
     "name": "stderr",
     "output_type": "stream",
     "text": [
      "\n",
      "Epoch 80: 100%|██████████| 500/500 [00:09<00:00, 51.66it/s, Loss=0.105] \n",
      "Testing: 100%|██████████| 100/100 [00:00<00:00, 227.00it/s]"
     ]
    },
    {
     "name": "stdout",
     "output_type": "stream",
     "text": [
      "Test Accuracy: 84.58%\n"
     ]
    },
    {
     "name": "stderr",
     "output_type": "stream",
     "text": [
      "\n",
      "Epoch 81: 100%|██████████| 500/500 [00:09<00:00, 51.56it/s, Loss=0.0975]\n",
      "Testing: 100%|██████████| 100/100 [00:00<00:00, 229.03it/s]"
     ]
    },
    {
     "name": "stdout",
     "output_type": "stream",
     "text": [
      "Test Accuracy: 84.15%\n"
     ]
    },
    {
     "name": "stderr",
     "output_type": "stream",
     "text": [
      "\n",
      "Epoch 82: 100%|██████████| 500/500 [00:09<00:00, 51.72it/s, Loss=0.0946]\n",
      "Testing: 100%|██████████| 100/100 [00:00<00:00, 232.02it/s]"
     ]
    },
    {
     "name": "stdout",
     "output_type": "stream",
     "text": [
      "Test Accuracy: 84.16%\n"
     ]
    },
    {
     "name": "stderr",
     "output_type": "stream",
     "text": [
      "\n",
      "Epoch 83: 100%|██████████| 500/500 [00:09<00:00, 51.88it/s, Loss=0.1]   \n",
      "Testing: 100%|██████████| 100/100 [00:00<00:00, 229.88it/s]"
     ]
    },
    {
     "name": "stdout",
     "output_type": "stream",
     "text": [
      "Test Accuracy: 84.41%\n"
     ]
    },
    {
     "name": "stderr",
     "output_type": "stream",
     "text": [
      "\n",
      "Epoch 84: 100%|██████████| 500/500 [00:09<00:00, 51.65it/s, Loss=0.101] \n",
      "Testing: 100%|██████████| 100/100 [00:00<00:00, 230.00it/s]"
     ]
    },
    {
     "name": "stdout",
     "output_type": "stream",
     "text": [
      "Test Accuracy: 83.59%\n"
     ]
    },
    {
     "name": "stderr",
     "output_type": "stream",
     "text": [
      "\n",
      "Epoch 85: 100%|██████████| 500/500 [00:09<00:00, 51.24it/s, Loss=0.097] \n",
      "Testing: 100%|██████████| 100/100 [00:00<00:00, 233.61it/s]"
     ]
    },
    {
     "name": "stdout",
     "output_type": "stream",
     "text": [
      "Test Accuracy: 84.86%\n"
     ]
    },
    {
     "name": "stderr",
     "output_type": "stream",
     "text": [
      "\n",
      "Epoch 86: 100%|██████████| 500/500 [00:09<00:00, 51.52it/s, Loss=0.0876]\n",
      "Testing: 100%|██████████| 100/100 [00:00<00:00, 228.65it/s]"
     ]
    },
    {
     "name": "stdout",
     "output_type": "stream",
     "text": [
      "Test Accuracy: 84.31%\n"
     ]
    },
    {
     "name": "stderr",
     "output_type": "stream",
     "text": [
      "\n",
      "Epoch 87: 100%|██████████| 500/500 [00:09<00:00, 51.48it/s, Loss=0.0863]\n",
      "Testing: 100%|██████████| 100/100 [00:00<00:00, 231.45it/s]"
     ]
    },
    {
     "name": "stdout",
     "output_type": "stream",
     "text": [
      "Test Accuracy: 84.96%\n"
     ]
    },
    {
     "name": "stderr",
     "output_type": "stream",
     "text": [
      "\n",
      "Epoch 88: 100%|██████████| 500/500 [00:09<00:00, 51.47it/s, Loss=0.087] \n",
      "Testing: 100%|██████████| 100/100 [00:00<00:00, 233.24it/s]"
     ]
    },
    {
     "name": "stdout",
     "output_type": "stream",
     "text": [
      "Test Accuracy: 84.86%\n"
     ]
    },
    {
     "name": "stderr",
     "output_type": "stream",
     "text": [
      "\n",
      "Epoch 89: 100%|██████████| 500/500 [00:09<00:00, 51.55it/s, Loss=0.0948]\n",
      "Testing: 100%|██████████| 100/100 [00:00<00:00, 232.07it/s]"
     ]
    },
    {
     "name": "stdout",
     "output_type": "stream",
     "text": [
      "Test Accuracy: 85.32%\n"
     ]
    },
    {
     "name": "stderr",
     "output_type": "stream",
     "text": [
      "\n",
      "Epoch 90: 100%|██████████| 500/500 [00:09<00:00, 51.47it/s, Loss=0.0883]\n",
      "Testing: 100%|██████████| 100/100 [00:00<00:00, 227.91it/s]"
     ]
    },
    {
     "name": "stdout",
     "output_type": "stream",
     "text": [
      "Test Accuracy: 84.96%\n"
     ]
    },
    {
     "name": "stderr",
     "output_type": "stream",
     "text": [
      "\n",
      "Epoch 91: 100%|██████████| 500/500 [00:09<00:00, 51.19it/s, Loss=0.0844]\n",
      "Testing: 100%|██████████| 100/100 [00:00<00:00, 229.88it/s]"
     ]
    },
    {
     "name": "stdout",
     "output_type": "stream",
     "text": [
      "Test Accuracy: 85.14%\n"
     ]
    },
    {
     "name": "stderr",
     "output_type": "stream",
     "text": [
      "\n",
      "Epoch 92: 100%|██████████| 500/500 [00:09<00:00, 51.17it/s, Loss=0.0828]\n",
      "Testing: 100%|██████████| 100/100 [00:00<00:00, 225.35it/s]"
     ]
    },
    {
     "name": "stdout",
     "output_type": "stream",
     "text": [
      "Test Accuracy: 84.66%\n"
     ]
    },
    {
     "name": "stderr",
     "output_type": "stream",
     "text": [
      "\n",
      "Epoch 93: 100%|██████████| 500/500 [00:09<00:00, 51.46it/s, Loss=0.0847]\n",
      "Testing: 100%|██████████| 100/100 [00:00<00:00, 232.05it/s]"
     ]
    },
    {
     "name": "stdout",
     "output_type": "stream",
     "text": [
      "Test Accuracy: 85.25%\n"
     ]
    },
    {
     "name": "stderr",
     "output_type": "stream",
     "text": [
      "\n",
      "Epoch 94: 100%|██████████| 500/500 [00:09<00:00, 51.83it/s, Loss=0.0778]\n",
      "Testing: 100%|██████████| 100/100 [00:00<00:00, 228.17it/s]"
     ]
    },
    {
     "name": "stdout",
     "output_type": "stream",
     "text": [
      "Test Accuracy: 84.79%\n"
     ]
    },
    {
     "name": "stderr",
     "output_type": "stream",
     "text": [
      "\n",
      "Epoch 95: 100%|██████████| 500/500 [00:09<00:00, 51.50it/s, Loss=0.0783]\n",
      "Testing: 100%|██████████| 100/100 [00:00<00:00, 231.99it/s]"
     ]
    },
    {
     "name": "stdout",
     "output_type": "stream",
     "text": [
      "Test Accuracy: 85.02%\n"
     ]
    },
    {
     "name": "stderr",
     "output_type": "stream",
     "text": [
      "\n",
      "Epoch 96: 100%|██████████| 500/500 [00:09<00:00, 51.56it/s, Loss=0.0851]\n",
      "Testing: 100%|██████████| 100/100 [00:00<00:00, 234.89it/s]"
     ]
    },
    {
     "name": "stdout",
     "output_type": "stream",
     "text": [
      "Test Accuracy: 84.21%\n"
     ]
    },
    {
     "name": "stderr",
     "output_type": "stream",
     "text": [
      "\n",
      "Epoch 97: 100%|██████████| 500/500 [00:09<00:00, 51.64it/s, Loss=0.081] \n",
      "Testing: 100%|██████████| 100/100 [00:00<00:00, 233.03it/s]"
     ]
    },
    {
     "name": "stdout",
     "output_type": "stream",
     "text": [
      "Test Accuracy: 84.11%\n"
     ]
    },
    {
     "name": "stderr",
     "output_type": "stream",
     "text": [
      "\n",
      "Epoch 98: 100%|██████████| 500/500 [00:09<00:00, 51.78it/s, Loss=0.0835]\n",
      "Testing: 100%|██████████| 100/100 [00:00<00:00, 231.10it/s]"
     ]
    },
    {
     "name": "stdout",
     "output_type": "stream",
     "text": [
      "Test Accuracy: 84.86%\n"
     ]
    },
    {
     "name": "stderr",
     "output_type": "stream",
     "text": [
      "\n",
      "Epoch 99: 100%|██████████| 500/500 [00:09<00:00, 51.55it/s, Loss=0.0871]\n",
      "Testing: 100%|██████████| 100/100 [00:00<00:00, 233.04it/s]"
     ]
    },
    {
     "name": "stdout",
     "output_type": "stream",
     "text": [
      "Test Accuracy: 84.72%\n"
     ]
    },
    {
     "name": "stderr",
     "output_type": "stream",
     "text": [
      "\n",
      "Epoch 100: 100%|██████████| 500/500 [00:09<00:00, 51.35it/s, Loss=0.0726]\n",
      "Testing: 100%|██████████| 100/100 [00:00<00:00, 231.88it/s]"
     ]
    },
    {
     "name": "stdout",
     "output_type": "stream",
     "text": [
      "Test Accuracy: 84.70%\n"
     ]
    },
    {
     "name": "stderr",
     "output_type": "stream",
     "text": [
      "\n",
      "Epoch 1: 100%|██████████| 500/500 [00:09<00:00, 51.48it/s, Loss=1.7] \n",
      "Testing: 100%|██████████| 100/100 [00:00<00:00, 229.55it/s]"
     ]
    },
    {
     "name": "stdout",
     "output_type": "stream",
     "text": [
      "Test Accuracy: 34.66%\n"
     ]
    },
    {
     "name": "stderr",
     "output_type": "stream",
     "text": [
      "\n",
      "Epoch 2: 100%|██████████| 500/500 [00:09<00:00, 51.60it/s, Loss=1.52]\n",
      "Testing: 100%|██████████| 100/100 [00:00<00:00, 226.59it/s]"
     ]
    },
    {
     "name": "stdout",
     "output_type": "stream",
     "text": [
      "Test Accuracy: 49.38%\n"
     ]
    },
    {
     "name": "stderr",
     "output_type": "stream",
     "text": [
      "\n",
      "Epoch 3: 100%|██████████| 500/500 [00:09<00:00, 51.42it/s, Loss=1.24]\n",
      "Testing: 100%|██████████| 100/100 [00:00<00:00, 227.86it/s]"
     ]
    },
    {
     "name": "stdout",
     "output_type": "stream",
     "text": [
      "Test Accuracy: 56.69%\n"
     ]
    },
    {
     "name": "stderr",
     "output_type": "stream",
     "text": [
      "\n",
      "Epoch 4: 100%|██████████| 500/500 [00:09<00:00, 51.71it/s, Loss=1.09]\n",
      "Testing: 100%|██████████| 100/100 [00:00<00:00, 234.36it/s]"
     ]
    },
    {
     "name": "stdout",
     "output_type": "stream",
     "text": [
      "Test Accuracy: 66.11%\n"
     ]
    },
    {
     "name": "stderr",
     "output_type": "stream",
     "text": [
      "\n",
      "Epoch 5: 100%|██████████| 500/500 [00:09<00:00, 51.67it/s, Loss=0.964]\n",
      "Testing: 100%|██████████| 100/100 [00:00<00:00, 228.09it/s]"
     ]
    },
    {
     "name": "stdout",
     "output_type": "stream",
     "text": [
      "Test Accuracy: 69.70%\n"
     ]
    },
    {
     "name": "stderr",
     "output_type": "stream",
     "text": [
      "\n",
      "Epoch 6: 100%|██████████| 500/500 [00:09<00:00, 51.23it/s, Loss=0.884]\n",
      "Testing: 100%|██████████| 100/100 [00:00<00:00, 232.04it/s]"
     ]
    },
    {
     "name": "stdout",
     "output_type": "stream",
     "text": [
      "Test Accuracy: 69.92%\n"
     ]
    },
    {
     "name": "stderr",
     "output_type": "stream",
     "text": [
      "\n",
      "Epoch 7: 100%|██████████| 500/500 [00:09<00:00, 51.59it/s, Loss=0.842]\n",
      "Testing: 100%|██████████| 100/100 [00:00<00:00, 232.14it/s]"
     ]
    },
    {
     "name": "stdout",
     "output_type": "stream",
     "text": [
      "Test Accuracy: 73.02%\n"
     ]
    },
    {
     "name": "stderr",
     "output_type": "stream",
     "text": [
      "\n",
      "Epoch 8: 100%|██████████| 500/500 [00:09<00:00, 51.56it/s, Loss=0.778]\n",
      "Testing: 100%|██████████| 100/100 [00:00<00:00, 227.49it/s]"
     ]
    },
    {
     "name": "stdout",
     "output_type": "stream",
     "text": [
      "Test Accuracy: 74.79%\n"
     ]
    },
    {
     "name": "stderr",
     "output_type": "stream",
     "text": [
      "\n",
      "Epoch 9: 100%|██████████| 500/500 [00:09<00:00, 51.87it/s, Loss=0.734]\n",
      "Testing: 100%|██████████| 100/100 [00:00<00:00, 231.70it/s]"
     ]
    },
    {
     "name": "stdout",
     "output_type": "stream",
     "text": [
      "Test Accuracy: 75.45%\n"
     ]
    },
    {
     "name": "stderr",
     "output_type": "stream",
     "text": [
      "\n",
      "Epoch 10: 100%|██████████| 500/500 [00:09<00:00, 51.57it/s, Loss=0.68] \n",
      "Testing: 100%|██████████| 100/100 [00:00<00:00, 229.65it/s]"
     ]
    },
    {
     "name": "stdout",
     "output_type": "stream",
     "text": [
      "Test Accuracy: 77.83%\n"
     ]
    },
    {
     "name": "stderr",
     "output_type": "stream",
     "text": [
      "\n",
      "Epoch 11: 100%|██████████| 500/500 [00:09<00:00, 51.65it/s, Loss=0.65] \n",
      "Testing: 100%|██████████| 100/100 [00:00<00:00, 229.51it/s]"
     ]
    },
    {
     "name": "stdout",
     "output_type": "stream",
     "text": [
      "Test Accuracy: 78.72%\n"
     ]
    },
    {
     "name": "stderr",
     "output_type": "stream",
     "text": [
      "\n",
      "Epoch 12: 100%|██████████| 500/500 [00:09<00:00, 51.45it/s, Loss=0.61] \n",
      "Testing: 100%|██████████| 100/100 [00:00<00:00, 231.19it/s]"
     ]
    },
    {
     "name": "stdout",
     "output_type": "stream",
     "text": [
      "Test Accuracy: 79.07%\n"
     ]
    },
    {
     "name": "stderr",
     "output_type": "stream",
     "text": [
      "\n",
      "Epoch 13: 100%|██████████| 500/500 [00:09<00:00, 51.58it/s, Loss=0.6]  \n",
      "Testing: 100%|██████████| 100/100 [00:00<00:00, 230.73it/s]"
     ]
    },
    {
     "name": "stdout",
     "output_type": "stream",
     "text": [
      "Test Accuracy: 79.88%\n"
     ]
    },
    {
     "name": "stderr",
     "output_type": "stream",
     "text": [
      "\n",
      "Epoch 14: 100%|██████████| 500/500 [00:09<00:00, 51.30it/s, Loss=0.601]\n",
      "Testing: 100%|██████████| 100/100 [00:00<00:00, 225.65it/s]"
     ]
    },
    {
     "name": "stdout",
     "output_type": "stream",
     "text": [
      "Test Accuracy: 80.26%\n"
     ]
    },
    {
     "name": "stderr",
     "output_type": "stream",
     "text": [
      "\n",
      "Epoch 15: 100%|██████████| 500/500 [00:09<00:00, 51.45it/s, Loss=0.546]\n",
      "Testing: 100%|██████████| 100/100 [00:00<00:00, 233.69it/s]"
     ]
    },
    {
     "name": "stdout",
     "output_type": "stream",
     "text": [
      "Test Accuracy: 80.21%\n"
     ]
    },
    {
     "name": "stderr",
     "output_type": "stream",
     "text": [
      "\n",
      "Epoch 16: 100%|██████████| 500/500 [00:09<00:00, 51.36it/s, Loss=0.54] \n",
      "Testing: 100%|██████████| 100/100 [00:00<00:00, 236.26it/s]"
     ]
    },
    {
     "name": "stdout",
     "output_type": "stream",
     "text": [
      "Test Accuracy: 81.92%\n"
     ]
    },
    {
     "name": "stderr",
     "output_type": "stream",
     "text": [
      "\n",
      "Epoch 17: 100%|██████████| 500/500 [00:09<00:00, 51.63it/s, Loss=0.513]\n",
      "Testing: 100%|██████████| 100/100 [00:00<00:00, 235.65it/s]"
     ]
    },
    {
     "name": "stdout",
     "output_type": "stream",
     "text": [
      "Test Accuracy: 81.29%\n"
     ]
    },
    {
     "name": "stderr",
     "output_type": "stream",
     "text": [
      "\n",
      "Epoch 18: 100%|██████████| 500/500 [00:09<00:00, 51.36it/s, Loss=0.501]\n",
      "Testing: 100%|██████████| 100/100 [00:00<00:00, 228.81it/s]"
     ]
    },
    {
     "name": "stdout",
     "output_type": "stream",
     "text": [
      "Test Accuracy: 81.22%\n"
     ]
    },
    {
     "name": "stderr",
     "output_type": "stream",
     "text": [
      "\n",
      "Epoch 19: 100%|██████████| 500/500 [00:09<00:00, 51.98it/s, Loss=0.495]\n",
      "Testing: 100%|██████████| 100/100 [00:00<00:00, 234.62it/s]"
     ]
    },
    {
     "name": "stdout",
     "output_type": "stream",
     "text": [
      "Test Accuracy: 81.06%\n"
     ]
    },
    {
     "name": "stderr",
     "output_type": "stream",
     "text": [
      "\n",
      "Epoch 20: 100%|██████████| 500/500 [00:09<00:00, 51.68it/s, Loss=0.465]\n",
      "Testing: 100%|██████████| 100/100 [00:00<00:00, 234.10it/s]"
     ]
    },
    {
     "name": "stdout",
     "output_type": "stream",
     "text": [
      "Test Accuracy: 82.31%\n"
     ]
    },
    {
     "name": "stderr",
     "output_type": "stream",
     "text": [
      "\n",
      "Epoch 21: 100%|██████████| 500/500 [00:09<00:00, 51.47it/s, Loss=0.459]\n",
      "Testing: 100%|██████████| 100/100 [00:00<00:00, 230.19it/s]"
     ]
    },
    {
     "name": "stdout",
     "output_type": "stream",
     "text": [
      "Test Accuracy: 81.69%\n"
     ]
    },
    {
     "name": "stderr",
     "output_type": "stream",
     "text": [
      "\n",
      "Epoch 22: 100%|██████████| 500/500 [00:09<00:00, 51.30it/s, Loss=0.448]\n",
      "Testing: 100%|██████████| 100/100 [00:00<00:00, 232.92it/s]"
     ]
    },
    {
     "name": "stdout",
     "output_type": "stream",
     "text": [
      "Test Accuracy: 82.53%\n"
     ]
    },
    {
     "name": "stderr",
     "output_type": "stream",
     "text": [
      "\n",
      "Epoch 23: 100%|██████████| 500/500 [00:09<00:00, 51.74it/s, Loss=0.434]\n",
      "Testing: 100%|██████████| 100/100 [00:00<00:00, 231.71it/s]"
     ]
    },
    {
     "name": "stdout",
     "output_type": "stream",
     "text": [
      "Test Accuracy: 82.92%\n"
     ]
    },
    {
     "name": "stderr",
     "output_type": "stream",
     "text": [
      "\n",
      "Epoch 24: 100%|██████████| 500/500 [00:09<00:00, 51.48it/s, Loss=0.414]\n",
      "Testing: 100%|██████████| 100/100 [00:00<00:00, 232.00it/s]"
     ]
    },
    {
     "name": "stdout",
     "output_type": "stream",
     "text": [
      "Test Accuracy: 83.37%\n"
     ]
    },
    {
     "name": "stderr",
     "output_type": "stream",
     "text": [
      "\n",
      "Epoch 25: 100%|██████████| 500/500 [00:09<00:00, 51.51it/s, Loss=0.4]  \n",
      "Testing: 100%|██████████| 100/100 [00:00<00:00, 227.19it/s]"
     ]
    },
    {
     "name": "stdout",
     "output_type": "stream",
     "text": [
      "Test Accuracy: 83.72%\n"
     ]
    },
    {
     "name": "stderr",
     "output_type": "stream",
     "text": [
      "\n",
      "Epoch 26: 100%|██████████| 500/500 [00:09<00:00, 51.75it/s, Loss=0.397]\n",
      "Testing: 100%|██████████| 100/100 [00:00<00:00, 231.43it/s]"
     ]
    },
    {
     "name": "stdout",
     "output_type": "stream",
     "text": [
      "Test Accuracy: 83.03%\n"
     ]
    },
    {
     "name": "stderr",
     "output_type": "stream",
     "text": [
      "\n",
      "Epoch 27: 100%|██████████| 500/500 [00:09<00:00, 51.14it/s, Loss=0.382]\n",
      "Testing: 100%|██████████| 100/100 [00:00<00:00, 233.48it/s]"
     ]
    },
    {
     "name": "stdout",
     "output_type": "stream",
     "text": [
      "Test Accuracy: 83.26%\n"
     ]
    },
    {
     "name": "stderr",
     "output_type": "stream",
     "text": [
      "\n",
      "Epoch 28: 100%|██████████| 500/500 [00:09<00:00, 51.42it/s, Loss=0.372]\n",
      "Testing: 100%|██████████| 100/100 [00:00<00:00, 232.88it/s]"
     ]
    },
    {
     "name": "stdout",
     "output_type": "stream",
     "text": [
      "Test Accuracy: 82.33%\n"
     ]
    },
    {
     "name": "stderr",
     "output_type": "stream",
     "text": [
      "\n",
      "Epoch 29: 100%|██████████| 500/500 [00:09<00:00, 51.37it/s, Loss=0.363]\n",
      "Testing: 100%|██████████| 100/100 [00:00<00:00, 228.51it/s]"
     ]
    },
    {
     "name": "stdout",
     "output_type": "stream",
     "text": [
      "Test Accuracy: 83.77%\n"
     ]
    },
    {
     "name": "stderr",
     "output_type": "stream",
     "text": [
      "\n",
      "Epoch 30: 100%|██████████| 500/500 [00:09<00:00, 51.70it/s, Loss=0.338]\n",
      "Testing: 100%|██████████| 100/100 [00:00<00:00, 233.93it/s]"
     ]
    },
    {
     "name": "stdout",
     "output_type": "stream",
     "text": [
      "Test Accuracy: 84.18%\n"
     ]
    },
    {
     "name": "stderr",
     "output_type": "stream",
     "text": [
      "\n",
      "Epoch 31: 100%|██████████| 500/500 [00:09<00:00, 51.78it/s, Loss=0.343]\n",
      "Testing: 100%|██████████| 100/100 [00:00<00:00, 233.26it/s]"
     ]
    },
    {
     "name": "stdout",
     "output_type": "stream",
     "text": [
      "Test Accuracy: 82.93%\n"
     ]
    },
    {
     "name": "stderr",
     "output_type": "stream",
     "text": [
      "\n",
      "Epoch 32: 100%|██████████| 500/500 [00:09<00:00, 51.25it/s, Loss=0.342]\n",
      "Testing: 100%|██████████| 100/100 [00:00<00:00, 231.18it/s]"
     ]
    },
    {
     "name": "stdout",
     "output_type": "stream",
     "text": [
      "Test Accuracy: 82.77%\n"
     ]
    },
    {
     "name": "stderr",
     "output_type": "stream",
     "text": [
      "\n",
      "Epoch 33: 100%|██████████| 500/500 [00:09<00:00, 51.25it/s, Loss=0.334]\n",
      "Testing: 100%|██████████| 100/100 [00:00<00:00, 231.20it/s]"
     ]
    },
    {
     "name": "stdout",
     "output_type": "stream",
     "text": [
      "Test Accuracy: 83.73%\n"
     ]
    },
    {
     "name": "stderr",
     "output_type": "stream",
     "text": [
      "\n",
      "Epoch 34: 100%|██████████| 500/500 [00:09<00:00, 51.88it/s, Loss=0.325]\n",
      "Testing: 100%|██████████| 100/100 [00:00<00:00, 230.42it/s]"
     ]
    },
    {
     "name": "stdout",
     "output_type": "stream",
     "text": [
      "Test Accuracy: 83.73%\n"
     ]
    },
    {
     "name": "stderr",
     "output_type": "stream",
     "text": [
      "\n",
      "Epoch 35: 100%|██████████| 500/500 [00:09<00:00, 51.91it/s, Loss=0.307]\n",
      "Testing: 100%|██████████| 100/100 [00:00<00:00, 233.16it/s]"
     ]
    },
    {
     "name": "stdout",
     "output_type": "stream",
     "text": [
      "Test Accuracy: 84.70%\n"
     ]
    },
    {
     "name": "stderr",
     "output_type": "stream",
     "text": [
      "\n",
      "Epoch 36: 100%|██████████| 500/500 [00:09<00:00, 51.53it/s, Loss=0.298]\n",
      "Testing: 100%|██████████| 100/100 [00:00<00:00, 230.60it/s]"
     ]
    },
    {
     "name": "stdout",
     "output_type": "stream",
     "text": [
      "Test Accuracy: 83.44%\n"
     ]
    },
    {
     "name": "stderr",
     "output_type": "stream",
     "text": [
      "\n",
      "Epoch 37: 100%|██████████| 500/500 [00:09<00:00, 51.51it/s, Loss=0.303]\n",
      "Testing: 100%|██████████| 100/100 [00:00<00:00, 231.17it/s]"
     ]
    },
    {
     "name": "stdout",
     "output_type": "stream",
     "text": [
      "Test Accuracy: 84.21%\n"
     ]
    },
    {
     "name": "stderr",
     "output_type": "stream",
     "text": [
      "\n",
      "Epoch 38: 100%|██████████| 500/500 [00:09<00:00, 51.60it/s, Loss=0.291]\n",
      "Testing: 100%|██████████| 100/100 [00:00<00:00, 234.07it/s]"
     ]
    },
    {
     "name": "stdout",
     "output_type": "stream",
     "text": [
      "Test Accuracy: 83.96%\n"
     ]
    },
    {
     "name": "stderr",
     "output_type": "stream",
     "text": [
      "\n",
      "Epoch 39: 100%|██████████| 500/500 [00:09<00:00, 51.57it/s, Loss=0.292]\n",
      "Testing: 100%|██████████| 100/100 [00:00<00:00, 227.59it/s]"
     ]
    },
    {
     "name": "stdout",
     "output_type": "stream",
     "text": [
      "Test Accuracy: 84.27%\n"
     ]
    },
    {
     "name": "stderr",
     "output_type": "stream",
     "text": [
      "\n",
      "Epoch 40: 100%|██████████| 500/500 [00:09<00:00, 51.64it/s, Loss=0.287]\n",
      "Testing: 100%|██████████| 100/100 [00:00<00:00, 234.62it/s]"
     ]
    },
    {
     "name": "stdout",
     "output_type": "stream",
     "text": [
      "Test Accuracy: 83.88%\n"
     ]
    },
    {
     "name": "stderr",
     "output_type": "stream",
     "text": [
      "\n",
      "Epoch 41: 100%|██████████| 500/500 [00:09<00:00, 51.46it/s, Loss=0.279]\n",
      "Testing: 100%|██████████| 100/100 [00:00<00:00, 231.27it/s]"
     ]
    },
    {
     "name": "stdout",
     "output_type": "stream",
     "text": [
      "Test Accuracy: 83.68%\n"
     ]
    },
    {
     "name": "stderr",
     "output_type": "stream",
     "text": [
      "\n",
      "Epoch 42: 100%|██████████| 500/500 [00:09<00:00, 51.66it/s, Loss=0.28] \n",
      "Testing: 100%|██████████| 100/100 [00:00<00:00, 233.43it/s]"
     ]
    },
    {
     "name": "stdout",
     "output_type": "stream",
     "text": [
      "Test Accuracy: 84.28%\n"
     ]
    },
    {
     "name": "stderr",
     "output_type": "stream",
     "text": [
      "\n",
      "Epoch 43: 100%|██████████| 500/500 [00:09<00:00, 51.41it/s, Loss=0.266]\n",
      "Testing: 100%|██████████| 100/100 [00:00<00:00, 231.95it/s]"
     ]
    },
    {
     "name": "stdout",
     "output_type": "stream",
     "text": [
      "Test Accuracy: 85.15%\n"
     ]
    },
    {
     "name": "stderr",
     "output_type": "stream",
     "text": [
      "\n",
      "Epoch 44: 100%|██████████| 500/500 [00:09<00:00, 51.49it/s, Loss=0.267]\n",
      "Testing: 100%|██████████| 100/100 [00:00<00:00, 227.73it/s]"
     ]
    },
    {
     "name": "stdout",
     "output_type": "stream",
     "text": [
      "Test Accuracy: 84.49%\n"
     ]
    },
    {
     "name": "stderr",
     "output_type": "stream",
     "text": [
      "\n",
      "Epoch 45: 100%|██████████| 500/500 [00:09<00:00, 51.40it/s, Loss=0.264]\n",
      "Testing: 100%|██████████| 100/100 [00:00<00:00, 232.90it/s]"
     ]
    },
    {
     "name": "stdout",
     "output_type": "stream",
     "text": [
      "Test Accuracy: 84.30%\n"
     ]
    },
    {
     "name": "stderr",
     "output_type": "stream",
     "text": [
      "\n",
      "Epoch 46: 100%|██████████| 500/500 [00:09<00:00, 51.49it/s, Loss=0.263]\n",
      "Testing: 100%|██████████| 100/100 [00:00<00:00, 225.98it/s]"
     ]
    },
    {
     "name": "stdout",
     "output_type": "stream",
     "text": [
      "Test Accuracy: 84.57%\n"
     ]
    },
    {
     "name": "stderr",
     "output_type": "stream",
     "text": [
      "\n",
      "Epoch 47: 100%|██████████| 500/500 [00:09<00:00, 51.57it/s, Loss=0.245]\n",
      "Testing: 100%|██████████| 100/100 [00:00<00:00, 229.97it/s]"
     ]
    },
    {
     "name": "stdout",
     "output_type": "stream",
     "text": [
      "Test Accuracy: 84.71%\n"
     ]
    },
    {
     "name": "stderr",
     "output_type": "stream",
     "text": [
      "\n",
      "Epoch 48: 100%|██████████| 500/500 [00:09<00:00, 51.45it/s, Loss=0.242]\n",
      "Testing: 100%|██████████| 100/100 [00:00<00:00, 229.29it/s]"
     ]
    },
    {
     "name": "stdout",
     "output_type": "stream",
     "text": [
      "Test Accuracy: 84.29%\n"
     ]
    },
    {
     "name": "stderr",
     "output_type": "stream",
     "text": [
      "\n",
      "Epoch 49: 100%|██████████| 500/500 [00:09<00:00, 51.42it/s, Loss=0.228]\n",
      "Testing: 100%|██████████| 100/100 [00:00<00:00, 232.06it/s]"
     ]
    },
    {
     "name": "stdout",
     "output_type": "stream",
     "text": [
      "Test Accuracy: 84.02%\n"
     ]
    },
    {
     "name": "stderr",
     "output_type": "stream",
     "text": [
      "\n",
      "Epoch 50: 100%|██████████| 500/500 [00:09<00:00, 51.53it/s, Loss=0.24] \n",
      "Testing: 100%|██████████| 100/100 [00:00<00:00, 225.29it/s]"
     ]
    },
    {
     "name": "stdout",
     "output_type": "stream",
     "text": [
      "Test Accuracy: 84.79%\n"
     ]
    },
    {
     "name": "stderr",
     "output_type": "stream",
     "text": [
      "\n",
      "Epoch 51: 100%|██████████| 500/500 [00:09<00:00, 51.59it/s, Loss=0.231]\n",
      "Testing: 100%|██████████| 100/100 [00:00<00:00, 232.87it/s]"
     ]
    },
    {
     "name": "stdout",
     "output_type": "stream",
     "text": [
      "Test Accuracy: 84.21%\n"
     ]
    },
    {
     "name": "stderr",
     "output_type": "stream",
     "text": [
      "\n",
      "Epoch 52: 100%|██████████| 500/500 [00:09<00:00, 51.61it/s, Loss=0.22] \n",
      "Testing: 100%|██████████| 100/100 [00:00<00:00, 232.96it/s]"
     ]
    },
    {
     "name": "stdout",
     "output_type": "stream",
     "text": [
      "Test Accuracy: 84.77%\n"
     ]
    },
    {
     "name": "stderr",
     "output_type": "stream",
     "text": [
      "\n",
      "Epoch 53: 100%|██████████| 500/500 [00:09<00:00, 51.68it/s, Loss=0.225]\n",
      "Testing: 100%|██████████| 100/100 [00:00<00:00, 234.26it/s]"
     ]
    },
    {
     "name": "stdout",
     "output_type": "stream",
     "text": [
      "Test Accuracy: 85.00%\n"
     ]
    },
    {
     "name": "stderr",
     "output_type": "stream",
     "text": [
      "\n",
      "Epoch 54: 100%|██████████| 500/500 [00:09<00:00, 51.52it/s, Loss=0.218]\n",
      "Testing: 100%|██████████| 100/100 [00:00<00:00, 229.03it/s]"
     ]
    },
    {
     "name": "stdout",
     "output_type": "stream",
     "text": [
      "Test Accuracy: 84.05%\n"
     ]
    },
    {
     "name": "stderr",
     "output_type": "stream",
     "text": [
      "\n",
      "Epoch 55: 100%|██████████| 500/500 [00:09<00:00, 51.77it/s, Loss=0.22] \n",
      "Testing: 100%|██████████| 100/100 [00:00<00:00, 225.15it/s]"
     ]
    },
    {
     "name": "stdout",
     "output_type": "stream",
     "text": [
      "Test Accuracy: 84.61%\n"
     ]
    },
    {
     "name": "stderr",
     "output_type": "stream",
     "text": [
      "\n",
      "Epoch 56: 100%|██████████| 500/500 [00:09<00:00, 51.60it/s, Loss=0.22] \n",
      "Testing: 100%|██████████| 100/100 [00:00<00:00, 227.52it/s]"
     ]
    },
    {
     "name": "stdout",
     "output_type": "stream",
     "text": [
      "Test Accuracy: 84.79%\n"
     ]
    },
    {
     "name": "stderr",
     "output_type": "stream",
     "text": [
      "\n",
      "Epoch 57: 100%|██████████| 500/500 [00:09<00:00, 51.81it/s, Loss=0.221]\n",
      "Testing: 100%|██████████| 100/100 [00:00<00:00, 230.71it/s]"
     ]
    },
    {
     "name": "stdout",
     "output_type": "stream",
     "text": [
      "Test Accuracy: 84.44%\n"
     ]
    },
    {
     "name": "stderr",
     "output_type": "stream",
     "text": [
      "\n",
      "Epoch 58: 100%|██████████| 500/500 [00:09<00:00, 51.23it/s, Loss=0.204]\n",
      "Testing: 100%|██████████| 100/100 [00:00<00:00, 231.73it/s]"
     ]
    },
    {
     "name": "stdout",
     "output_type": "stream",
     "text": [
      "Test Accuracy: 84.93%\n"
     ]
    },
    {
     "name": "stderr",
     "output_type": "stream",
     "text": [
      "\n",
      "Epoch 59: 100%|██████████| 500/500 [00:09<00:00, 51.51it/s, Loss=0.211]\n",
      "Testing: 100%|██████████| 100/100 [00:00<00:00, 231.31it/s]"
     ]
    },
    {
     "name": "stdout",
     "output_type": "stream",
     "text": [
      "Test Accuracy: 84.49%\n"
     ]
    },
    {
     "name": "stderr",
     "output_type": "stream",
     "text": [
      "\n",
      "Epoch 60: 100%|██████████| 500/500 [00:09<00:00, 51.48it/s, Loss=0.202]\n",
      "Testing: 100%|██████████| 100/100 [00:00<00:00, 233.10it/s]"
     ]
    },
    {
     "name": "stdout",
     "output_type": "stream",
     "text": [
      "Test Accuracy: 84.65%\n"
     ]
    },
    {
     "name": "stderr",
     "output_type": "stream",
     "text": [
      "\n",
      "Epoch 61: 100%|██████████| 500/500 [00:09<00:00, 51.60it/s, Loss=0.192]\n",
      "Testing: 100%|██████████| 100/100 [00:00<00:00, 234.26it/s]"
     ]
    },
    {
     "name": "stdout",
     "output_type": "stream",
     "text": [
      "Test Accuracy: 84.47%\n"
     ]
    },
    {
     "name": "stderr",
     "output_type": "stream",
     "text": [
      "\n",
      "Epoch 62: 100%|██████████| 500/500 [00:09<00:00, 51.56it/s, Loss=0.196]\n",
      "Testing: 100%|██████████| 100/100 [00:00<00:00, 232.88it/s]"
     ]
    },
    {
     "name": "stdout",
     "output_type": "stream",
     "text": [
      "Test Accuracy: 84.85%\n"
     ]
    },
    {
     "name": "stderr",
     "output_type": "stream",
     "text": [
      "\n",
      "Epoch 63: 100%|██████████| 500/500 [00:09<00:00, 51.72it/s, Loss=0.201]\n",
      "Testing: 100%|██████████| 100/100 [00:00<00:00, 232.88it/s]"
     ]
    },
    {
     "name": "stdout",
     "output_type": "stream",
     "text": [
      "Test Accuracy: 84.61%\n"
     ]
    },
    {
     "name": "stderr",
     "output_type": "stream",
     "text": [
      "\n",
      "Epoch 64: 100%|██████████| 500/500 [00:09<00:00, 51.78it/s, Loss=0.182]\n",
      "Testing: 100%|██████████| 100/100 [00:00<00:00, 234.36it/s]"
     ]
    },
    {
     "name": "stdout",
     "output_type": "stream",
     "text": [
      "Test Accuracy: 84.89%\n"
     ]
    },
    {
     "name": "stderr",
     "output_type": "stream",
     "text": [
      "\n",
      "Epoch 65: 100%|██████████| 500/500 [00:09<00:00, 51.53it/s, Loss=0.182]\n",
      "Testing: 100%|██████████| 100/100 [00:00<00:00, 234.84it/s]"
     ]
    },
    {
     "name": "stdout",
     "output_type": "stream",
     "text": [
      "Test Accuracy: 84.25%\n"
     ]
    },
    {
     "name": "stderr",
     "output_type": "stream",
     "text": [
      "\n",
      "Epoch 66: 100%|██████████| 500/500 [00:09<00:00, 51.33it/s, Loss=0.185]\n",
      "Testing: 100%|██████████| 100/100 [00:00<00:00, 232.89it/s]"
     ]
    },
    {
     "name": "stdout",
     "output_type": "stream",
     "text": [
      "Test Accuracy: 85.04%\n"
     ]
    },
    {
     "name": "stderr",
     "output_type": "stream",
     "text": [
      "\n",
      "Epoch 67: 100%|██████████| 500/500 [00:09<00:00, 51.72it/s, Loss=0.169]\n",
      "Testing: 100%|██████████| 100/100 [00:00<00:00, 231.73it/s]"
     ]
    },
    {
     "name": "stdout",
     "output_type": "stream",
     "text": [
      "Test Accuracy: 85.10%\n"
     ]
    },
    {
     "name": "stderr",
     "output_type": "stream",
     "text": [
      "\n",
      "Epoch 68: 100%|██████████| 500/500 [00:09<00:00, 51.56it/s, Loss=0.183]\n",
      "Testing: 100%|██████████| 100/100 [00:00<00:00, 231.74it/s]"
     ]
    },
    {
     "name": "stdout",
     "output_type": "stream",
     "text": [
      "Test Accuracy: 84.64%\n"
     ]
    },
    {
     "name": "stderr",
     "output_type": "stream",
     "text": [
      "\n",
      "Epoch 69: 100%|██████████| 500/500 [00:09<00:00, 51.73it/s, Loss=0.179]\n",
      "Testing: 100%|██████████| 100/100 [00:00<00:00, 232.88it/s]"
     ]
    },
    {
     "name": "stdout",
     "output_type": "stream",
     "text": [
      "Test Accuracy: 84.74%\n"
     ]
    },
    {
     "name": "stderr",
     "output_type": "stream",
     "text": [
      "\n",
      "Epoch 70: 100%|██████████| 500/500 [00:09<00:00, 51.66it/s, Loss=0.172]\n",
      "Testing: 100%|██████████| 100/100 [00:00<00:00, 227.89it/s]"
     ]
    },
    {
     "name": "stdout",
     "output_type": "stream",
     "text": [
      "Test Accuracy: 85.44%\n"
     ]
    },
    {
     "name": "stderr",
     "output_type": "stream",
     "text": [
      "\n",
      "Epoch 71: 100%|██████████| 500/500 [00:09<00:00, 51.59it/s, Loss=0.168]\n",
      "Testing: 100%|██████████| 100/100 [00:00<00:00, 230.39it/s]"
     ]
    },
    {
     "name": "stdout",
     "output_type": "stream",
     "text": [
      "Test Accuracy: 85.30%\n"
     ]
    },
    {
     "name": "stderr",
     "output_type": "stream",
     "text": [
      "\n",
      "Epoch 72: 100%|██████████| 500/500 [00:09<00:00, 51.68it/s, Loss=0.178]\n",
      "Testing: 100%|██████████| 100/100 [00:00<00:00, 232.26it/s]"
     ]
    },
    {
     "name": "stdout",
     "output_type": "stream",
     "text": [
      "Test Accuracy: 84.88%\n"
     ]
    },
    {
     "name": "stderr",
     "output_type": "stream",
     "text": [
      "\n",
      "Epoch 73: 100%|██████████| 500/500 [00:09<00:00, 51.64it/s, Loss=0.171]\n",
      "Testing: 100%|██████████| 100/100 [00:00<00:00, 233.70it/s]"
     ]
    },
    {
     "name": "stdout",
     "output_type": "stream",
     "text": [
      "Test Accuracy: 84.46%\n"
     ]
    },
    {
     "name": "stderr",
     "output_type": "stream",
     "text": [
      "\n",
      "Epoch 74: 100%|██████████| 500/500 [00:09<00:00, 51.55it/s, Loss=0.176]\n",
      "Testing: 100%|██████████| 100/100 [00:00<00:00, 230.66it/s]"
     ]
    },
    {
     "name": "stdout",
     "output_type": "stream",
     "text": [
      "Test Accuracy: 85.34%\n"
     ]
    },
    {
     "name": "stderr",
     "output_type": "stream",
     "text": [
      "\n",
      "Epoch 75: 100%|██████████| 500/500 [00:09<00:00, 51.84it/s, Loss=0.167]\n",
      "Testing: 100%|██████████| 100/100 [00:00<00:00, 228.58it/s]"
     ]
    },
    {
     "name": "stdout",
     "output_type": "stream",
     "text": [
      "Test Accuracy: 84.52%\n"
     ]
    },
    {
     "name": "stderr",
     "output_type": "stream",
     "text": [
      "\n",
      "Epoch 76: 100%|██████████| 500/500 [00:09<00:00, 51.48it/s, Loss=0.165]\n",
      "Testing: 100%|██████████| 100/100 [00:00<00:00, 231.24it/s]"
     ]
    },
    {
     "name": "stdout",
     "output_type": "stream",
     "text": [
      "Test Accuracy: 85.15%\n"
     ]
    },
    {
     "name": "stderr",
     "output_type": "stream",
     "text": [
      "\n",
      "Epoch 77: 100%|██████████| 500/500 [00:09<00:00, 51.51it/s, Loss=0.17] \n",
      "Testing: 100%|██████████| 100/100 [00:00<00:00, 230.81it/s]"
     ]
    },
    {
     "name": "stdout",
     "output_type": "stream",
     "text": [
      "Test Accuracy: 84.93%\n"
     ]
    },
    {
     "name": "stderr",
     "output_type": "stream",
     "text": [
      "\n",
      "Epoch 78: 100%|██████████| 500/500 [00:09<00:00, 51.51it/s, Loss=0.156]\n",
      "Testing: 100%|██████████| 100/100 [00:00<00:00, 229.98it/s]"
     ]
    },
    {
     "name": "stdout",
     "output_type": "stream",
     "text": [
      "Test Accuracy: 84.33%\n"
     ]
    },
    {
     "name": "stderr",
     "output_type": "stream",
     "text": [
      "\n",
      "Epoch 79: 100%|██████████| 500/500 [00:09<00:00, 51.60it/s, Loss=0.155]\n",
      "Testing: 100%|██████████| 100/100 [00:00<00:00, 232.58it/s]"
     ]
    },
    {
     "name": "stdout",
     "output_type": "stream",
     "text": [
      "Test Accuracy: 85.10%\n"
     ]
    },
    {
     "name": "stderr",
     "output_type": "stream",
     "text": [
      "\n",
      "Epoch 80: 100%|██████████| 500/500 [00:09<00:00, 51.39it/s, Loss=0.159]\n",
      "Testing: 100%|██████████| 100/100 [00:00<00:00, 228.09it/s]"
     ]
    },
    {
     "name": "stdout",
     "output_type": "stream",
     "text": [
      "Test Accuracy: 84.67%\n"
     ]
    },
    {
     "name": "stderr",
     "output_type": "stream",
     "text": [
      "\n",
      "Epoch 81: 100%|██████████| 500/500 [00:09<00:00, 51.61it/s, Loss=0.143]\n",
      "Testing: 100%|██████████| 100/100 [00:00<00:00, 231.14it/s]"
     ]
    },
    {
     "name": "stdout",
     "output_type": "stream",
     "text": [
      "Test Accuracy: 85.00%\n"
     ]
    },
    {
     "name": "stderr",
     "output_type": "stream",
     "text": [
      "\n",
      "Epoch 82: 100%|██████████| 500/500 [00:09<00:00, 51.42it/s, Loss=0.152]\n",
      "Testing: 100%|██████████| 100/100 [00:00<00:00, 229.32it/s]"
     ]
    },
    {
     "name": "stdout",
     "output_type": "stream",
     "text": [
      "Test Accuracy: 85.00%\n"
     ]
    },
    {
     "name": "stderr",
     "output_type": "stream",
     "text": [
      "\n",
      "Epoch 83: 100%|██████████| 500/500 [00:09<00:00, 51.59it/s, Loss=0.297]\n",
      "Testing: 100%|██████████| 100/100 [00:00<00:00, 232.12it/s]"
     ]
    },
    {
     "name": "stdout",
     "output_type": "stream",
     "text": [
      "Test Accuracy: 84.11%\n"
     ]
    },
    {
     "name": "stderr",
     "output_type": "stream",
     "text": [
      "\n",
      "Epoch 84: 100%|██████████| 500/500 [00:09<00:00, 51.52it/s, Loss=0.148]\n",
      "Testing: 100%|██████████| 100/100 [00:00<00:00, 236.96it/s]"
     ]
    },
    {
     "name": "stdout",
     "output_type": "stream",
     "text": [
      "Test Accuracy: 85.13%\n"
     ]
    },
    {
     "name": "stderr",
     "output_type": "stream",
     "text": [
      "\n",
      "Epoch 85: 100%|██████████| 500/500 [00:09<00:00, 51.59it/s, Loss=0.16] \n",
      "Testing: 100%|██████████| 100/100 [00:00<00:00, 232.02it/s]"
     ]
    },
    {
     "name": "stdout",
     "output_type": "stream",
     "text": [
      "Test Accuracy: 85.27%\n"
     ]
    },
    {
     "name": "stderr",
     "output_type": "stream",
     "text": [
      "\n",
      "Epoch 86: 100%|██████████| 500/500 [00:09<00:00, 51.48it/s, Loss=0.147]\n",
      "Testing: 100%|██████████| 100/100 [00:00<00:00, 230.80it/s]"
     ]
    },
    {
     "name": "stdout",
     "output_type": "stream",
     "text": [
      "Test Accuracy: 85.05%\n"
     ]
    },
    {
     "name": "stderr",
     "output_type": "stream",
     "text": [
      "\n",
      "Epoch 87: 100%|██████████| 500/500 [00:09<00:00, 51.48it/s, Loss=0.154]\n",
      "Testing: 100%|██████████| 100/100 [00:00<00:00, 233.07it/s]"
     ]
    },
    {
     "name": "stdout",
     "output_type": "stream",
     "text": [
      "Test Accuracy: 85.49%\n"
     ]
    },
    {
     "name": "stderr",
     "output_type": "stream",
     "text": [
      "\n",
      "Epoch 88: 100%|██████████| 500/500 [00:09<00:00, 51.62it/s, Loss=0.158]\n",
      "Testing: 100%|██████████| 100/100 [00:00<00:00, 234.04it/s]"
     ]
    },
    {
     "name": "stdout",
     "output_type": "stream",
     "text": [
      "Test Accuracy: 85.39%\n"
     ]
    },
    {
     "name": "stderr",
     "output_type": "stream",
     "text": [
      "\n",
      "Epoch 89: 100%|██████████| 500/500 [00:09<00:00, 51.44it/s, Loss=0.144]\n",
      "Testing: 100%|██████████| 100/100 [00:00<00:00, 232.88it/s]"
     ]
    },
    {
     "name": "stdout",
     "output_type": "stream",
     "text": [
      "Test Accuracy: 84.97%\n"
     ]
    },
    {
     "name": "stderr",
     "output_type": "stream",
     "text": [
      "\n",
      "Epoch 90: 100%|██████████| 500/500 [00:09<00:00, 51.72it/s, Loss=0.141]\n",
      "Testing: 100%|██████████| 100/100 [00:00<00:00, 232.95it/s]"
     ]
    },
    {
     "name": "stdout",
     "output_type": "stream",
     "text": [
      "Test Accuracy: 84.82%\n"
     ]
    },
    {
     "name": "stderr",
     "output_type": "stream",
     "text": [
      "\n",
      "Epoch 91: 100%|██████████| 500/500 [00:09<00:00, 51.60it/s, Loss=0.148]\n",
      "Testing: 100%|██████████| 100/100 [00:00<00:00, 229.96it/s]"
     ]
    },
    {
     "name": "stdout",
     "output_type": "stream",
     "text": [
      "Test Accuracy: 85.78%\n"
     ]
    },
    {
     "name": "stderr",
     "output_type": "stream",
     "text": [
      "\n",
      "Epoch 92: 100%|██████████| 500/500 [00:09<00:00, 51.51it/s, Loss=0.173]\n",
      "Testing: 100%|██████████| 100/100 [00:00<00:00, 234.76it/s]"
     ]
    },
    {
     "name": "stdout",
     "output_type": "stream",
     "text": [
      "Test Accuracy: 85.53%\n"
     ]
    },
    {
     "name": "stderr",
     "output_type": "stream",
     "text": [
      "\n",
      "Epoch 93: 100%|██████████| 500/500 [00:09<00:00, 51.38it/s, Loss=0.139]\n",
      "Testing: 100%|██████████| 100/100 [00:00<00:00, 232.87it/s]"
     ]
    },
    {
     "name": "stdout",
     "output_type": "stream",
     "text": [
      "Test Accuracy: 84.75%\n"
     ]
    },
    {
     "name": "stderr",
     "output_type": "stream",
     "text": [
      "\n",
      "Epoch 94: 100%|██████████| 500/500 [00:09<00:00, 51.70it/s, Loss=0.118]\n",
      "Testing: 100%|██████████| 100/100 [00:00<00:00, 231.86it/s]"
     ]
    },
    {
     "name": "stdout",
     "output_type": "stream",
     "text": [
      "Test Accuracy: 84.47%\n"
     ]
    },
    {
     "name": "stderr",
     "output_type": "stream",
     "text": [
      "\n",
      "Epoch 95: 100%|██████████| 500/500 [00:09<00:00, 51.56it/s, Loss=0.134]\n",
      "Testing: 100%|██████████| 100/100 [00:00<00:00, 233.01it/s]"
     ]
    },
    {
     "name": "stdout",
     "output_type": "stream",
     "text": [
      "Test Accuracy: 84.21%\n"
     ]
    },
    {
     "name": "stderr",
     "output_type": "stream",
     "text": [
      "\n",
      "Epoch 96: 100%|██████████| 500/500 [00:09<00:00, 51.56it/s, Loss=0.143]\n",
      "Testing: 100%|██████████| 100/100 [00:00<00:00, 230.84it/s]"
     ]
    },
    {
     "name": "stdout",
     "output_type": "stream",
     "text": [
      "Test Accuracy: 84.67%\n"
     ]
    },
    {
     "name": "stderr",
     "output_type": "stream",
     "text": [
      "\n",
      "Epoch 97: 100%|██████████| 500/500 [00:09<00:00, 51.42it/s, Loss=0.135]\n",
      "Testing: 100%|██████████| 100/100 [00:00<00:00, 231.10it/s]"
     ]
    },
    {
     "name": "stdout",
     "output_type": "stream",
     "text": [
      "Test Accuracy: 85.21%\n"
     ]
    },
    {
     "name": "stderr",
     "output_type": "stream",
     "text": [
      "\n",
      "Epoch 98: 100%|██████████| 500/500 [00:09<00:00, 51.34it/s, Loss=0.136]\n",
      "Testing: 100%|██████████| 100/100 [00:00<00:00, 235.96it/s]"
     ]
    },
    {
     "name": "stdout",
     "output_type": "stream",
     "text": [
      "Test Accuracy: 84.82%\n"
     ]
    },
    {
     "name": "stderr",
     "output_type": "stream",
     "text": [
      "\n",
      "Epoch 99: 100%|██████████| 500/500 [00:09<00:00, 51.50it/s, Loss=0.122]\n",
      "Testing: 100%|██████████| 100/100 [00:00<00:00, 230.62it/s]"
     ]
    },
    {
     "name": "stdout",
     "output_type": "stream",
     "text": [
      "Test Accuracy: 84.85%\n"
     ]
    },
    {
     "name": "stderr",
     "output_type": "stream",
     "text": [
      "\n",
      "Epoch 100: 100%|██████████| 500/500 [00:09<00:00, 51.52it/s, Loss=0.133]\n",
      "Testing: 100%|██████████| 100/100 [00:00<00:00, 232.88it/s]"
     ]
    },
    {
     "name": "stdout",
     "output_type": "stream",
     "text": [
      "Test Accuracy: 85.75%\n"
     ]
    },
    {
     "name": "stderr",
     "output_type": "stream",
     "text": [
      "\n",
      "Epoch 1: 100%|██████████| 500/500 [00:09<00:00, 51.84it/s, Loss=1.86]\n",
      "Testing: 100%|██████████| 100/100 [00:00<00:00, 227.37it/s]"
     ]
    },
    {
     "name": "stdout",
     "output_type": "stream",
     "text": [
      "Test Accuracy: 32.71%\n"
     ]
    },
    {
     "name": "stderr",
     "output_type": "stream",
     "text": [
      "\n",
      "Epoch 2: 100%|██████████| 500/500 [00:09<00:00, 51.48it/s, Loss=1.7] \n",
      "Testing: 100%|██████████| 100/100 [00:00<00:00, 230.98it/s]"
     ]
    },
    {
     "name": "stdout",
     "output_type": "stream",
     "text": [
      "Test Accuracy: 38.44%\n"
     ]
    },
    {
     "name": "stderr",
     "output_type": "stream",
     "text": [
      "\n",
      "Epoch 3: 100%|██████████| 500/500 [00:09<00:00, 51.43it/s, Loss=1.6] \n",
      "Testing: 100%|██████████| 100/100 [00:00<00:00, 229.54it/s]"
     ]
    },
    {
     "name": "stdout",
     "output_type": "stream",
     "text": [
      "Test Accuracy: 40.64%\n"
     ]
    },
    {
     "name": "stderr",
     "output_type": "stream",
     "text": [
      "\n",
      "Epoch 4: 100%|██████████| 500/500 [00:09<00:00, 51.36it/s, Loss=1.51]\n",
      "Testing: 100%|██████████| 100/100 [00:00<00:00, 226.47it/s]"
     ]
    },
    {
     "name": "stdout",
     "output_type": "stream",
     "text": [
      "Test Accuracy: 45.89%\n"
     ]
    },
    {
     "name": "stderr",
     "output_type": "stream",
     "text": [
      "\n",
      "Epoch 5: 100%|██████████| 500/500 [00:09<00:00, 51.42it/s, Loss=1.44]\n",
      "Testing: 100%|██████████| 100/100 [00:00<00:00, 229.96it/s]"
     ]
    },
    {
     "name": "stdout",
     "output_type": "stream",
     "text": [
      "Test Accuracy: 47.23%\n"
     ]
    },
    {
     "name": "stderr",
     "output_type": "stream",
     "text": [
      "\n",
      "Epoch 6: 100%|██████████| 500/500 [00:09<00:00, 51.38it/s, Loss=1.36]\n",
      "Testing: 100%|██████████| 100/100 [00:00<00:00, 231.12it/s]"
     ]
    },
    {
     "name": "stdout",
     "output_type": "stream",
     "text": [
      "Test Accuracy: 49.79%\n"
     ]
    },
    {
     "name": "stderr",
     "output_type": "stream",
     "text": [
      "\n",
      "Epoch 7: 100%|██████████| 500/500 [00:09<00:00, 51.62it/s, Loss=1.32]\n",
      "Testing: 100%|██████████| 100/100 [00:00<00:00, 230.34it/s]"
     ]
    },
    {
     "name": "stdout",
     "output_type": "stream",
     "text": [
      "Test Accuracy: 52.86%\n"
     ]
    },
    {
     "name": "stderr",
     "output_type": "stream",
     "text": [
      "\n",
      "Epoch 8: 100%|██████████| 500/500 [00:09<00:00, 51.42it/s, Loss=1.24]\n",
      "Testing: 100%|██████████| 100/100 [00:00<00:00, 229.19it/s]"
     ]
    },
    {
     "name": "stdout",
     "output_type": "stream",
     "text": [
      "Test Accuracy: 56.70%\n"
     ]
    },
    {
     "name": "stderr",
     "output_type": "stream",
     "text": [
      "\n",
      "Epoch 9: 100%|██████████| 500/500 [00:09<00:00, 51.72it/s, Loss=1.22]\n",
      "Testing: 100%|██████████| 100/100 [00:00<00:00, 226.23it/s]"
     ]
    },
    {
     "name": "stdout",
     "output_type": "stream",
     "text": [
      "Test Accuracy: 57.84%\n"
     ]
    },
    {
     "name": "stderr",
     "output_type": "stream",
     "text": [
      "\n",
      "Epoch 10: 100%|██████████| 500/500 [00:09<00:00, 51.60it/s, Loss=1.15]\n",
      "Testing: 100%|██████████| 100/100 [00:00<00:00, 232.32it/s]"
     ]
    },
    {
     "name": "stdout",
     "output_type": "stream",
     "text": [
      "Test Accuracy: 60.90%\n"
     ]
    },
    {
     "name": "stderr",
     "output_type": "stream",
     "text": [
      "\n",
      "Epoch 11: 100%|██████████| 500/500 [00:09<00:00, 51.52it/s, Loss=1.11]\n",
      "Testing: 100%|██████████| 100/100 [00:00<00:00, 224.72it/s]"
     ]
    },
    {
     "name": "stdout",
     "output_type": "stream",
     "text": [
      "Test Accuracy: 62.34%\n"
     ]
    },
    {
     "name": "stderr",
     "output_type": "stream",
     "text": [
      "\n",
      "Epoch 12: 100%|██████████| 500/500 [00:09<00:00, 51.68it/s, Loss=1.1] \n",
      "Testing: 100%|██████████| 100/100 [00:00<00:00, 226.00it/s]"
     ]
    },
    {
     "name": "stdout",
     "output_type": "stream",
     "text": [
      "Test Accuracy: 63.45%\n"
     ]
    },
    {
     "name": "stderr",
     "output_type": "stream",
     "text": [
      "\n",
      "Epoch 13: 100%|██████████| 500/500 [00:09<00:00, 51.25it/s, Loss=1.05]\n",
      "Testing: 100%|██████████| 100/100 [00:00<00:00, 232.38it/s]"
     ]
    },
    {
     "name": "stdout",
     "output_type": "stream",
     "text": [
      "Test Accuracy: 64.81%\n"
     ]
    },
    {
     "name": "stderr",
     "output_type": "stream",
     "text": [
      "\n",
      "Epoch 14: 100%|██████████| 500/500 [00:09<00:00, 51.46it/s, Loss=1.01]\n",
      "Testing: 100%|██████████| 100/100 [00:00<00:00, 233.11it/s]"
     ]
    },
    {
     "name": "stdout",
     "output_type": "stream",
     "text": [
      "Test Accuracy: 64.53%\n"
     ]
    },
    {
     "name": "stderr",
     "output_type": "stream",
     "text": [
      "\n",
      "Epoch 15: 100%|██████████| 500/500 [00:09<00:00, 51.39it/s, Loss=0.962]\n",
      "Testing: 100%|██████████| 100/100 [00:00<00:00, 230.00it/s]"
     ]
    },
    {
     "name": "stdout",
     "output_type": "stream",
     "text": [
      "Test Accuracy: 67.94%\n"
     ]
    },
    {
     "name": "stderr",
     "output_type": "stream",
     "text": [
      "\n",
      "Epoch 16: 100%|██████████| 500/500 [00:09<00:00, 51.33it/s, Loss=0.925]\n",
      "Testing: 100%|██████████| 100/100 [00:00<00:00, 231.27it/s]"
     ]
    },
    {
     "name": "stdout",
     "output_type": "stream",
     "text": [
      "Test Accuracy: 68.00%\n"
     ]
    },
    {
     "name": "stderr",
     "output_type": "stream",
     "text": [
      "\n",
      "Epoch 17: 100%|██████████| 500/500 [00:09<00:00, 51.48it/s, Loss=0.901]\n",
      "Testing: 100%|██████████| 100/100 [00:00<00:00, 226.03it/s]"
     ]
    },
    {
     "name": "stdout",
     "output_type": "stream",
     "text": [
      "Test Accuracy: 69.93%\n"
     ]
    },
    {
     "name": "stderr",
     "output_type": "stream",
     "text": [
      "\n",
      "Epoch 18: 100%|██████████| 500/500 [00:09<00:00, 51.63it/s, Loss=0.861]\n",
      "Testing: 100%|██████████| 100/100 [00:00<00:00, 230.96it/s]"
     ]
    },
    {
     "name": "stdout",
     "output_type": "stream",
     "text": [
      "Test Accuracy: 69.11%\n"
     ]
    },
    {
     "name": "stderr",
     "output_type": "stream",
     "text": [
      "\n",
      "Epoch 19: 100%|██████████| 500/500 [00:09<00:00, 51.69it/s, Loss=0.854]\n",
      "Testing: 100%|██████████| 100/100 [00:00<00:00, 231.15it/s]"
     ]
    },
    {
     "name": "stdout",
     "output_type": "stream",
     "text": [
      "Test Accuracy: 70.07%\n"
     ]
    },
    {
     "name": "stderr",
     "output_type": "stream",
     "text": [
      "\n",
      "Epoch 20: 100%|██████████| 500/500 [00:09<00:00, 51.65it/s, Loss=0.821]\n",
      "Testing: 100%|██████████| 100/100 [00:00<00:00, 229.47it/s]"
     ]
    },
    {
     "name": "stdout",
     "output_type": "stream",
     "text": [
      "Test Accuracy: 72.10%\n"
     ]
    },
    {
     "name": "stderr",
     "output_type": "stream",
     "text": [
      "\n",
      "Epoch 21: 100%|██████████| 500/500 [00:09<00:00, 51.48it/s, Loss=0.817]\n",
      "Testing: 100%|██████████| 100/100 [00:00<00:00, 234.62it/s]"
     ]
    },
    {
     "name": "stdout",
     "output_type": "stream",
     "text": [
      "Test Accuracy: 72.76%\n"
     ]
    },
    {
     "name": "stderr",
     "output_type": "stream",
     "text": [
      "\n",
      "Epoch 22: 100%|██████████| 500/500 [00:09<00:00, 51.47it/s, Loss=0.789]\n",
      "Testing: 100%|██████████| 100/100 [00:00<00:00, 230.13it/s]"
     ]
    },
    {
     "name": "stdout",
     "output_type": "stream",
     "text": [
      "Test Accuracy: 72.65%\n"
     ]
    },
    {
     "name": "stderr",
     "output_type": "stream",
     "text": [
      "\n",
      "Epoch 23: 100%|██████████| 500/500 [00:09<00:00, 51.40it/s, Loss=0.753]\n",
      "Testing: 100%|██████████| 100/100 [00:00<00:00, 230.13it/s]"
     ]
    },
    {
     "name": "stdout",
     "output_type": "stream",
     "text": [
      "Test Accuracy: 73.97%\n"
     ]
    },
    {
     "name": "stderr",
     "output_type": "stream",
     "text": [
      "\n",
      "Epoch 24: 100%|██████████| 500/500 [00:09<00:00, 51.21it/s, Loss=0.732]\n",
      "Testing: 100%|██████████| 100/100 [00:00<00:00, 227.80it/s]"
     ]
    },
    {
     "name": "stdout",
     "output_type": "stream",
     "text": [
      "Test Accuracy: 73.78%\n"
     ]
    },
    {
     "name": "stderr",
     "output_type": "stream",
     "text": [
      "\n",
      "Epoch 25: 100%|██████████| 500/500 [00:09<00:00, 51.41it/s, Loss=0.714]\n",
      "Testing: 100%|██████████| 100/100 [00:00<00:00, 233.36it/s]"
     ]
    },
    {
     "name": "stdout",
     "output_type": "stream",
     "text": [
      "Test Accuracy: 75.69%\n"
     ]
    },
    {
     "name": "stderr",
     "output_type": "stream",
     "text": [
      "\n",
      "Epoch 26: 100%|██████████| 500/500 [00:09<00:00, 51.61it/s, Loss=0.681]\n",
      "Testing: 100%|██████████| 100/100 [00:00<00:00, 229.64it/s]"
     ]
    },
    {
     "name": "stdout",
     "output_type": "stream",
     "text": [
      "Test Accuracy: 75.19%\n"
     ]
    },
    {
     "name": "stderr",
     "output_type": "stream",
     "text": [
      "\n",
      "Epoch 27: 100%|██████████| 500/500 [00:09<00:00, 51.54it/s, Loss=0.652]\n",
      "Testing: 100%|██████████| 100/100 [00:00<00:00, 232.74it/s]"
     ]
    },
    {
     "name": "stdout",
     "output_type": "stream",
     "text": [
      "Test Accuracy: 76.20%\n"
     ]
    },
    {
     "name": "stderr",
     "output_type": "stream",
     "text": [
      "\n",
      "Epoch 28: 100%|██████████| 500/500 [00:09<00:00, 51.24it/s, Loss=0.657]\n",
      "Testing: 100%|██████████| 100/100 [00:00<00:00, 232.68it/s]"
     ]
    },
    {
     "name": "stdout",
     "output_type": "stream",
     "text": [
      "Test Accuracy: 76.91%\n"
     ]
    },
    {
     "name": "stderr",
     "output_type": "stream",
     "text": [
      "\n",
      "Epoch 29: 100%|██████████| 500/500 [00:09<00:00, 51.49it/s, Loss=0.64] \n",
      "Testing: 100%|██████████| 100/100 [00:00<00:00, 231.04it/s]"
     ]
    },
    {
     "name": "stdout",
     "output_type": "stream",
     "text": [
      "Test Accuracy: 76.92%\n"
     ]
    },
    {
     "name": "stderr",
     "output_type": "stream",
     "text": [
      "\n",
      "Epoch 30: 100%|██████████| 500/500 [00:09<00:00, 51.23it/s, Loss=0.622]\n",
      "Testing: 100%|██████████| 100/100 [00:00<00:00, 227.40it/s]"
     ]
    },
    {
     "name": "stdout",
     "output_type": "stream",
     "text": [
      "Test Accuracy: 75.06%\n"
     ]
    },
    {
     "name": "stderr",
     "output_type": "stream",
     "text": [
      "\n",
      "Epoch 31: 100%|██████████| 500/500 [00:09<00:00, 51.55it/s, Loss=0.595]\n",
      "Testing: 100%|██████████| 100/100 [00:00<00:00, 232.28it/s]"
     ]
    },
    {
     "name": "stdout",
     "output_type": "stream",
     "text": [
      "Test Accuracy: 78.28%\n"
     ]
    },
    {
     "name": "stderr",
     "output_type": "stream",
     "text": [
      "\n",
      "Epoch 32: 100%|██████████| 500/500 [00:09<00:00, 51.45it/s, Loss=0.604]\n",
      "Testing: 100%|██████████| 100/100 [00:00<00:00, 231.00it/s]"
     ]
    },
    {
     "name": "stdout",
     "output_type": "stream",
     "text": [
      "Test Accuracy: 78.69%\n"
     ]
    },
    {
     "name": "stderr",
     "output_type": "stream",
     "text": [
      "\n",
      "Epoch 33: 100%|██████████| 500/500 [00:09<00:00, 51.50it/s, Loss=0.584]\n",
      "Testing: 100%|██████████| 100/100 [00:00<00:00, 232.03it/s]"
     ]
    },
    {
     "name": "stdout",
     "output_type": "stream",
     "text": [
      "Test Accuracy: 78.22%\n"
     ]
    },
    {
     "name": "stderr",
     "output_type": "stream",
     "text": [
      "\n",
      "Epoch 34: 100%|██████████| 500/500 [00:09<00:00, 51.53it/s, Loss=0.552]\n",
      "Testing: 100%|██████████| 100/100 [00:00<00:00, 227.32it/s]"
     ]
    },
    {
     "name": "stdout",
     "output_type": "stream",
     "text": [
      "Test Accuracy: 77.28%\n"
     ]
    },
    {
     "name": "stderr",
     "output_type": "stream",
     "text": [
      "\n",
      "Epoch 35: 100%|██████████| 500/500 [00:09<00:00, 51.31it/s, Loss=0.535]\n",
      "Testing: 100%|██████████| 100/100 [00:00<00:00, 228.78it/s]"
     ]
    },
    {
     "name": "stdout",
     "output_type": "stream",
     "text": [
      "Test Accuracy: 78.59%\n"
     ]
    },
    {
     "name": "stderr",
     "output_type": "stream",
     "text": [
      "\n",
      "Epoch 36: 100%|██████████| 500/500 [00:09<00:00, 51.45it/s, Loss=0.525]\n",
      "Testing: 100%|██████████| 100/100 [00:00<00:00, 230.41it/s]"
     ]
    },
    {
     "name": "stdout",
     "output_type": "stream",
     "text": [
      "Test Accuracy: 78.34%\n"
     ]
    },
    {
     "name": "stderr",
     "output_type": "stream",
     "text": [
      "\n",
      "Epoch 37: 100%|██████████| 500/500 [00:09<00:00, 51.49it/s, Loss=0.519]\n",
      "Testing: 100%|██████████| 100/100 [00:00<00:00, 227.71it/s]"
     ]
    },
    {
     "name": "stdout",
     "output_type": "stream",
     "text": [
      "Test Accuracy: 79.94%\n"
     ]
    },
    {
     "name": "stderr",
     "output_type": "stream",
     "text": [
      "\n",
      "Epoch 38: 100%|██████████| 500/500 [00:09<00:00, 51.30it/s, Loss=0.514]\n",
      "Testing: 100%|██████████| 100/100 [00:00<00:00, 231.34it/s]"
     ]
    },
    {
     "name": "stdout",
     "output_type": "stream",
     "text": [
      "Test Accuracy: 78.66%\n"
     ]
    },
    {
     "name": "stderr",
     "output_type": "stream",
     "text": [
      "\n",
      "Epoch 39: 100%|██████████| 500/500 [00:09<00:00, 51.56it/s, Loss=0.481]\n",
      "Testing: 100%|██████████| 100/100 [00:00<00:00, 234.42it/s]"
     ]
    },
    {
     "name": "stdout",
     "output_type": "stream",
     "text": [
      "Test Accuracy: 80.20%\n"
     ]
    },
    {
     "name": "stderr",
     "output_type": "stream",
     "text": [
      "\n",
      "Epoch 40: 100%|██████████| 500/500 [00:09<00:00, 51.31it/s, Loss=0.497]\n",
      "Testing: 100%|██████████| 100/100 [00:00<00:00, 231.24it/s]"
     ]
    },
    {
     "name": "stdout",
     "output_type": "stream",
     "text": [
      "Test Accuracy: 79.93%\n"
     ]
    },
    {
     "name": "stderr",
     "output_type": "stream",
     "text": [
      "\n",
      "Epoch 41: 100%|██████████| 500/500 [00:09<00:00, 51.70it/s, Loss=0.476]\n",
      "Testing: 100%|██████████| 100/100 [00:00<00:00, 231.53it/s]"
     ]
    },
    {
     "name": "stdout",
     "output_type": "stream",
     "text": [
      "Test Accuracy: 80.10%\n"
     ]
    },
    {
     "name": "stderr",
     "output_type": "stream",
     "text": [
      "\n",
      "Epoch 42: 100%|██████████| 500/500 [00:09<00:00, 51.52it/s, Loss=0.439]\n",
      "Testing: 100%|██████████| 100/100 [00:00<00:00, 228.54it/s]"
     ]
    },
    {
     "name": "stdout",
     "output_type": "stream",
     "text": [
      "Test Accuracy: 81.47%\n"
     ]
    },
    {
     "name": "stderr",
     "output_type": "stream",
     "text": [
      "\n",
      "Epoch 43: 100%|██████████| 500/500 [00:09<00:00, 51.47it/s, Loss=0.443]\n",
      "Testing: 100%|██████████| 100/100 [00:00<00:00, 229.98it/s]"
     ]
    },
    {
     "name": "stdout",
     "output_type": "stream",
     "text": [
      "Test Accuracy: 80.67%\n"
     ]
    },
    {
     "name": "stderr",
     "output_type": "stream",
     "text": [
      "\n",
      "Epoch 44: 100%|██████████| 500/500 [00:09<00:00, 51.54it/s, Loss=0.433]\n",
      "Testing: 100%|██████████| 100/100 [00:00<00:00, 227.08it/s]"
     ]
    },
    {
     "name": "stdout",
     "output_type": "stream",
     "text": [
      "Test Accuracy: 81.06%\n"
     ]
    },
    {
     "name": "stderr",
     "output_type": "stream",
     "text": [
      "\n",
      "Epoch 45: 100%|██████████| 500/500 [00:09<00:00, 51.47it/s, Loss=0.453]\n",
      "Testing: 100%|██████████| 100/100 [00:00<00:00, 227.89it/s]"
     ]
    },
    {
     "name": "stdout",
     "output_type": "stream",
     "text": [
      "Test Accuracy: 80.29%\n"
     ]
    },
    {
     "name": "stderr",
     "output_type": "stream",
     "text": [
      "\n",
      "Epoch 46: 100%|██████████| 500/500 [00:09<00:00, 51.30it/s, Loss=0.403]\n",
      "Testing: 100%|██████████| 100/100 [00:00<00:00, 231.87it/s]"
     ]
    },
    {
     "name": "stdout",
     "output_type": "stream",
     "text": [
      "Test Accuracy: 79.91%\n"
     ]
    },
    {
     "name": "stderr",
     "output_type": "stream",
     "text": [
      "\n",
      "Epoch 47: 100%|██████████| 500/500 [00:09<00:00, 51.62it/s, Loss=0.407]\n",
      "Testing: 100%|██████████| 100/100 [00:00<00:00, 233.07it/s]"
     ]
    },
    {
     "name": "stdout",
     "output_type": "stream",
     "text": [
      "Test Accuracy: 81.14%\n"
     ]
    },
    {
     "name": "stderr",
     "output_type": "stream",
     "text": [
      "\n",
      "Epoch 48: 100%|██████████| 500/500 [00:09<00:00, 51.64it/s, Loss=0.381]\n",
      "Testing: 100%|██████████| 100/100 [00:00<00:00, 230.31it/s]"
     ]
    },
    {
     "name": "stdout",
     "output_type": "stream",
     "text": [
      "Test Accuracy: 80.85%\n"
     ]
    },
    {
     "name": "stderr",
     "output_type": "stream",
     "text": [
      "\n",
      "Epoch 49: 100%|██████████| 500/500 [00:09<00:00, 51.53it/s, Loss=0.372]\n",
      "Testing: 100%|██████████| 100/100 [00:00<00:00, 232.37it/s]"
     ]
    },
    {
     "name": "stdout",
     "output_type": "stream",
     "text": [
      "Test Accuracy: 80.92%\n"
     ]
    },
    {
     "name": "stderr",
     "output_type": "stream",
     "text": [
      "\n",
      "Epoch 50: 100%|██████████| 500/500 [00:09<00:00, 51.33it/s, Loss=0.353]\n",
      "Testing: 100%|██████████| 100/100 [00:00<00:00, 226.83it/s]"
     ]
    },
    {
     "name": "stdout",
     "output_type": "stream",
     "text": [
      "Test Accuracy: 81.58%\n"
     ]
    },
    {
     "name": "stderr",
     "output_type": "stream",
     "text": [
      "\n",
      "Epoch 51: 100%|██████████| 500/500 [00:09<00:00, 51.40it/s, Loss=0.36] \n",
      "Testing: 100%|██████████| 100/100 [00:00<00:00, 225.00it/s]"
     ]
    },
    {
     "name": "stdout",
     "output_type": "stream",
     "text": [
      "Test Accuracy: 81.85%\n"
     ]
    },
    {
     "name": "stderr",
     "output_type": "stream",
     "text": [
      "\n",
      "Epoch 52: 100%|██████████| 500/500 [00:09<00:00, 51.36it/s, Loss=0.36] \n",
      "Testing: 100%|██████████| 100/100 [00:00<00:00, 230.87it/s]"
     ]
    },
    {
     "name": "stdout",
     "output_type": "stream",
     "text": [
      "Test Accuracy: 81.80%\n"
     ]
    },
    {
     "name": "stderr",
     "output_type": "stream",
     "text": [
      "\n",
      "Epoch 53: 100%|██████████| 500/500 [00:09<00:00, 51.42it/s, Loss=0.338]\n",
      "Testing: 100%|██████████| 100/100 [00:00<00:00, 228.19it/s]"
     ]
    },
    {
     "name": "stdout",
     "output_type": "stream",
     "text": [
      "Test Accuracy: 81.70%\n"
     ]
    },
    {
     "name": "stderr",
     "output_type": "stream",
     "text": [
      "\n",
      "Epoch 54: 100%|██████████| 500/500 [00:09<00:00, 51.66it/s, Loss=0.327]\n",
      "Testing: 100%|██████████| 100/100 [00:00<00:00, 231.87it/s]"
     ]
    },
    {
     "name": "stdout",
     "output_type": "stream",
     "text": [
      "Test Accuracy: 81.24%\n"
     ]
    },
    {
     "name": "stderr",
     "output_type": "stream",
     "text": [
      "\n",
      "Epoch 55: 100%|██████████| 500/500 [00:09<00:00, 51.55it/s, Loss=0.324]\n",
      "Testing: 100%|██████████| 100/100 [00:00<00:00, 228.37it/s]"
     ]
    },
    {
     "name": "stdout",
     "output_type": "stream",
     "text": [
      "Test Accuracy: 81.17%\n"
     ]
    },
    {
     "name": "stderr",
     "output_type": "stream",
     "text": [
      "\n",
      "Epoch 56: 100%|██████████| 500/500 [00:09<00:00, 51.61it/s, Loss=0.305]\n",
      "Testing: 100%|██████████| 100/100 [00:00<00:00, 230.09it/s]"
     ]
    },
    {
     "name": "stdout",
     "output_type": "stream",
     "text": [
      "Test Accuracy: 82.30%\n"
     ]
    },
    {
     "name": "stderr",
     "output_type": "stream",
     "text": [
      "\n",
      "Epoch 57: 100%|██████████| 500/500 [00:09<00:00, 51.53it/s, Loss=0.303]\n",
      "Testing: 100%|██████████| 100/100 [00:00<00:00, 225.74it/s]"
     ]
    },
    {
     "name": "stdout",
     "output_type": "stream",
     "text": [
      "Test Accuracy: 82.59%\n"
     ]
    },
    {
     "name": "stderr",
     "output_type": "stream",
     "text": [
      "\n",
      "Epoch 58: 100%|██████████| 500/500 [00:09<00:00, 51.31it/s, Loss=0.296]\n",
      "Testing: 100%|██████████| 100/100 [00:00<00:00, 226.68it/s]"
     ]
    },
    {
     "name": "stdout",
     "output_type": "stream",
     "text": [
      "Test Accuracy: 82.65%\n"
     ]
    },
    {
     "name": "stderr",
     "output_type": "stream",
     "text": [
      "\n",
      "Epoch 59: 100%|██████████| 500/500 [00:09<00:00, 51.29it/s, Loss=0.287]\n",
      "Testing: 100%|██████████| 100/100 [00:00<00:00, 227.25it/s]"
     ]
    },
    {
     "name": "stdout",
     "output_type": "stream",
     "text": [
      "Test Accuracy: 81.86%\n"
     ]
    },
    {
     "name": "stderr",
     "output_type": "stream",
     "text": [
      "\n",
      "Epoch 60: 100%|██████████| 500/500 [00:09<00:00, 51.44it/s, Loss=0.274]\n",
      "Testing: 100%|██████████| 100/100 [00:00<00:00, 232.02it/s]"
     ]
    },
    {
     "name": "stdout",
     "output_type": "stream",
     "text": [
      "Test Accuracy: 81.91%\n"
     ]
    },
    {
     "name": "stderr",
     "output_type": "stream",
     "text": [
      "\n",
      "Epoch 61: 100%|██████████| 500/500 [00:09<00:00, 51.29it/s, Loss=0.28] \n",
      "Testing: 100%|██████████| 100/100 [00:00<00:00, 230.68it/s]"
     ]
    },
    {
     "name": "stdout",
     "output_type": "stream",
     "text": [
      "Test Accuracy: 81.81%\n"
     ]
    },
    {
     "name": "stderr",
     "output_type": "stream",
     "text": [
      "\n",
      "Epoch 62: 100%|██████████| 500/500 [00:09<00:00, 51.64it/s, Loss=0.272]\n",
      "Testing: 100%|██████████| 100/100 [00:00<00:00, 225.95it/s]"
     ]
    },
    {
     "name": "stdout",
     "output_type": "stream",
     "text": [
      "Test Accuracy: 81.66%\n"
     ]
    },
    {
     "name": "stderr",
     "output_type": "stream",
     "text": [
      "\n",
      "Epoch 63: 100%|██████████| 500/500 [00:09<00:00, 51.26it/s, Loss=0.256]\n",
      "Testing: 100%|██████████| 100/100 [00:00<00:00, 232.00it/s]"
     ]
    },
    {
     "name": "stdout",
     "output_type": "stream",
     "text": [
      "Test Accuracy: 81.74%\n"
     ]
    },
    {
     "name": "stderr",
     "output_type": "stream",
     "text": [
      "\n",
      "Epoch 64: 100%|██████████| 500/500 [00:09<00:00, 51.58it/s, Loss=0.25] \n",
      "Testing: 100%|██████████| 100/100 [00:00<00:00, 230.31it/s]"
     ]
    },
    {
     "name": "stdout",
     "output_type": "stream",
     "text": [
      "Test Accuracy: 82.02%\n"
     ]
    },
    {
     "name": "stderr",
     "output_type": "stream",
     "text": [
      "\n",
      "Epoch 65: 100%|██████████| 500/500 [00:09<00:00, 51.63it/s, Loss=0.249]\n",
      "Testing: 100%|██████████| 100/100 [00:00<00:00, 232.18it/s]"
     ]
    },
    {
     "name": "stdout",
     "output_type": "stream",
     "text": [
      "Test Accuracy: 82.33%\n"
     ]
    },
    {
     "name": "stderr",
     "output_type": "stream",
     "text": [
      "\n",
      "Epoch 66: 100%|██████████| 500/500 [00:09<00:00, 51.54it/s, Loss=0.238]\n",
      "Testing: 100%|██████████| 100/100 [00:00<00:00, 232.35it/s]"
     ]
    },
    {
     "name": "stdout",
     "output_type": "stream",
     "text": [
      "Test Accuracy: 82.10%\n"
     ]
    },
    {
     "name": "stderr",
     "output_type": "stream",
     "text": [
      "\n",
      "Epoch 67: 100%|██████████| 500/500 [00:09<00:00, 51.46it/s, Loss=0.239]\n",
      "Testing: 100%|██████████| 100/100 [00:00<00:00, 229.82it/s]"
     ]
    },
    {
     "name": "stdout",
     "output_type": "stream",
     "text": [
      "Test Accuracy: 81.30%\n"
     ]
    },
    {
     "name": "stderr",
     "output_type": "stream",
     "text": [
      "\n",
      "Epoch 68: 100%|██████████| 500/500 [00:09<00:00, 51.54it/s, Loss=0.245]\n",
      "Testing: 100%|██████████| 100/100 [00:00<00:00, 223.76it/s]"
     ]
    },
    {
     "name": "stdout",
     "output_type": "stream",
     "text": [
      "Test Accuracy: 82.53%\n"
     ]
    },
    {
     "name": "stderr",
     "output_type": "stream",
     "text": [
      "\n",
      "Epoch 69: 100%|██████████| 500/500 [00:09<00:00, 51.67it/s, Loss=0.219]\n",
      "Testing: 100%|██████████| 100/100 [00:00<00:00, 230.21it/s]"
     ]
    },
    {
     "name": "stdout",
     "output_type": "stream",
     "text": [
      "Test Accuracy: 82.37%\n"
     ]
    },
    {
     "name": "stderr",
     "output_type": "stream",
     "text": [
      "\n",
      "Epoch 70: 100%|██████████| 500/500 [00:09<00:00, 51.45it/s, Loss=0.219]\n",
      "Testing: 100%|██████████| 100/100 [00:00<00:00, 228.80it/s]"
     ]
    },
    {
     "name": "stdout",
     "output_type": "stream",
     "text": [
      "Test Accuracy: 82.33%\n"
     ]
    },
    {
     "name": "stderr",
     "output_type": "stream",
     "text": [
      "\n",
      "Epoch 71: 100%|██████████| 500/500 [00:09<00:00, 51.29it/s, Loss=0.215]\n",
      "Testing: 100%|██████████| 100/100 [00:00<00:00, 233.11it/s]"
     ]
    },
    {
     "name": "stdout",
     "output_type": "stream",
     "text": [
      "Test Accuracy: 81.47%\n"
     ]
    },
    {
     "name": "stderr",
     "output_type": "stream",
     "text": [
      "\n",
      "Epoch 72: 100%|██████████| 500/500 [00:09<00:00, 51.57it/s, Loss=0.205]\n",
      "Testing: 100%|██████████| 100/100 [00:00<00:00, 229.69it/s]"
     ]
    },
    {
     "name": "stdout",
     "output_type": "stream",
     "text": [
      "Test Accuracy: 82.75%\n"
     ]
    },
    {
     "name": "stderr",
     "output_type": "stream",
     "text": [
      "\n",
      "Epoch 73: 100%|██████████| 500/500 [00:09<00:00, 51.42it/s, Loss=0.204]\n",
      "Testing: 100%|██████████| 100/100 [00:00<00:00, 229.08it/s]"
     ]
    },
    {
     "name": "stdout",
     "output_type": "stream",
     "text": [
      "Test Accuracy: 80.77%\n"
     ]
    },
    {
     "name": "stderr",
     "output_type": "stream",
     "text": [
      "\n",
      "Epoch 74: 100%|██████████| 500/500 [00:09<00:00, 51.48it/s, Loss=0.194]\n",
      "Testing: 100%|██████████| 100/100 [00:00<00:00, 229.35it/s]"
     ]
    },
    {
     "name": "stdout",
     "output_type": "stream",
     "text": [
      "Test Accuracy: 83.16%\n"
     ]
    },
    {
     "name": "stderr",
     "output_type": "stream",
     "text": [
      "\n",
      "Epoch 75: 100%|██████████| 500/500 [00:09<00:00, 51.31it/s, Loss=0.197]\n",
      "Testing: 100%|██████████| 100/100 [00:00<00:00, 231.55it/s]"
     ]
    },
    {
     "name": "stdout",
     "output_type": "stream",
     "text": [
      "Test Accuracy: 82.41%\n"
     ]
    },
    {
     "name": "stderr",
     "output_type": "stream",
     "text": [
      "\n",
      "Epoch 76: 100%|██████████| 500/500 [00:09<00:00, 51.42it/s, Loss=0.189]\n",
      "Testing: 100%|██████████| 100/100 [00:00<00:00, 231.59it/s]"
     ]
    },
    {
     "name": "stdout",
     "output_type": "stream",
     "text": [
      "Test Accuracy: 82.35%\n"
     ]
    },
    {
     "name": "stderr",
     "output_type": "stream",
     "text": [
      "\n",
      "Epoch 77: 100%|██████████| 500/500 [00:09<00:00, 51.33it/s, Loss=0.196]\n",
      "Testing: 100%|██████████| 100/100 [00:00<00:00, 236.08it/s]"
     ]
    },
    {
     "name": "stdout",
     "output_type": "stream",
     "text": [
      "Test Accuracy: 83.10%\n"
     ]
    },
    {
     "name": "stderr",
     "output_type": "stream",
     "text": [
      "\n",
      "Epoch 78: 100%|██████████| 500/500 [00:09<00:00, 51.69it/s, Loss=0.193]\n",
      "Testing: 100%|██████████| 100/100 [00:00<00:00, 225.52it/s]"
     ]
    },
    {
     "name": "stdout",
     "output_type": "stream",
     "text": [
      "Test Accuracy: 82.49%\n"
     ]
    },
    {
     "name": "stderr",
     "output_type": "stream",
     "text": [
      "\n",
      "Epoch 79: 100%|██████████| 500/500 [00:09<00:00, 51.60it/s, Loss=0.182]\n",
      "Testing: 100%|██████████| 100/100 [00:00<00:00, 229.24it/s]"
     ]
    },
    {
     "name": "stdout",
     "output_type": "stream",
     "text": [
      "Test Accuracy: 82.28%\n"
     ]
    },
    {
     "name": "stderr",
     "output_type": "stream",
     "text": [
      "\n",
      "Epoch 80: 100%|██████████| 500/500 [00:09<00:00, 51.30it/s, Loss=0.183]\n",
      "Testing: 100%|██████████| 100/100 [00:00<00:00, 231.40it/s]"
     ]
    },
    {
     "name": "stdout",
     "output_type": "stream",
     "text": [
      "Test Accuracy: 82.63%\n"
     ]
    },
    {
     "name": "stderr",
     "output_type": "stream",
     "text": [
      "\n",
      "Epoch 81: 100%|██████████| 500/500 [00:09<00:00, 51.39it/s, Loss=0.174]\n",
      "Testing: 100%|██████████| 100/100 [00:00<00:00, 225.09it/s]"
     ]
    },
    {
     "name": "stdout",
     "output_type": "stream",
     "text": [
      "Test Accuracy: 82.37%\n"
     ]
    },
    {
     "name": "stderr",
     "output_type": "stream",
     "text": [
      "\n",
      "Epoch 82: 100%|██████████| 500/500 [00:09<00:00, 51.41it/s, Loss=0.164]\n",
      "Testing: 100%|██████████| 100/100 [00:00<00:00, 231.34it/s]"
     ]
    },
    {
     "name": "stdout",
     "output_type": "stream",
     "text": [
      "Test Accuracy: 83.01%\n"
     ]
    },
    {
     "name": "stderr",
     "output_type": "stream",
     "text": [
      "\n",
      "Epoch 83: 100%|██████████| 500/500 [00:09<00:00, 51.55it/s, Loss=0.16] \n",
      "Testing: 100%|██████████| 100/100 [00:00<00:00, 231.98it/s]"
     ]
    },
    {
     "name": "stdout",
     "output_type": "stream",
     "text": [
      "Test Accuracy: 83.01%\n"
     ]
    },
    {
     "name": "stderr",
     "output_type": "stream",
     "text": [
      "\n",
      "Epoch 84: 100%|██████████| 500/500 [00:09<00:00, 51.76it/s, Loss=0.162]\n",
      "Testing: 100%|██████████| 100/100 [00:00<00:00, 225.10it/s]"
     ]
    },
    {
     "name": "stdout",
     "output_type": "stream",
     "text": [
      "Test Accuracy: 82.96%\n"
     ]
    },
    {
     "name": "stderr",
     "output_type": "stream",
     "text": [
      "\n",
      "Epoch 85: 100%|██████████| 500/500 [00:09<00:00, 51.50it/s, Loss=0.164]\n",
      "Testing: 100%|██████████| 100/100 [00:00<00:00, 228.12it/s]"
     ]
    },
    {
     "name": "stdout",
     "output_type": "stream",
     "text": [
      "Test Accuracy: 83.38%\n"
     ]
    },
    {
     "name": "stderr",
     "output_type": "stream",
     "text": [
      "\n",
      "Epoch 86: 100%|██████████| 500/500 [00:09<00:00, 51.63it/s, Loss=0.158]\n",
      "Testing: 100%|██████████| 100/100 [00:00<00:00, 230.94it/s]"
     ]
    },
    {
     "name": "stdout",
     "output_type": "stream",
     "text": [
      "Test Accuracy: 82.98%\n"
     ]
    },
    {
     "name": "stderr",
     "output_type": "stream",
     "text": [
      "\n",
      "Epoch 87: 100%|██████████| 500/500 [00:09<00:00, 51.40it/s, Loss=0.143]\n",
      "Testing: 100%|██████████| 100/100 [00:00<00:00, 231.20it/s]"
     ]
    },
    {
     "name": "stdout",
     "output_type": "stream",
     "text": [
      "Test Accuracy: 83.46%\n"
     ]
    },
    {
     "name": "stderr",
     "output_type": "stream",
     "text": [
      "\n",
      "Epoch 88: 100%|██████████| 500/500 [00:09<00:00, 51.45it/s, Loss=0.153]\n",
      "Testing: 100%|██████████| 100/100 [00:00<00:00, 224.70it/s]"
     ]
    },
    {
     "name": "stdout",
     "output_type": "stream",
     "text": [
      "Test Accuracy: 82.64%\n"
     ]
    },
    {
     "name": "stderr",
     "output_type": "stream",
     "text": [
      "\n",
      "Epoch 89: 100%|██████████| 500/500 [00:09<00:00, 51.65it/s, Loss=0.153]\n",
      "Testing: 100%|██████████| 100/100 [00:00<00:00, 229.09it/s]"
     ]
    },
    {
     "name": "stdout",
     "output_type": "stream",
     "text": [
      "Test Accuracy: 83.15%\n"
     ]
    },
    {
     "name": "stderr",
     "output_type": "stream",
     "text": [
      "\n",
      "Epoch 90: 100%|██████████| 500/500 [00:09<00:00, 51.50it/s, Loss=0.137]\n",
      "Testing: 100%|██████████| 100/100 [00:00<00:00, 228.45it/s]"
     ]
    },
    {
     "name": "stdout",
     "output_type": "stream",
     "text": [
      "Test Accuracy: 83.24%\n"
     ]
    },
    {
     "name": "stderr",
     "output_type": "stream",
     "text": [
      "\n",
      "Epoch 91: 100%|██████████| 500/500 [00:09<00:00, 51.27it/s, Loss=0.153]\n",
      "Testing: 100%|██████████| 100/100 [00:00<00:00, 225.79it/s]"
     ]
    },
    {
     "name": "stdout",
     "output_type": "stream",
     "text": [
      "Test Accuracy: 83.20%\n"
     ]
    },
    {
     "name": "stderr",
     "output_type": "stream",
     "text": [
      "\n",
      "Epoch 92: 100%|██████████| 500/500 [00:09<00:00, 51.49it/s, Loss=0.128]\n",
      "Testing: 100%|██████████| 100/100 [00:00<00:00, 229.20it/s]"
     ]
    },
    {
     "name": "stdout",
     "output_type": "stream",
     "text": [
      "Test Accuracy: 82.92%\n"
     ]
    },
    {
     "name": "stderr",
     "output_type": "stream",
     "text": [
      "\n",
      "Epoch 93: 100%|██████████| 500/500 [00:09<00:00, 51.41it/s, Loss=0.14] \n",
      "Testing: 100%|██████████| 100/100 [00:00<00:00, 229.80it/s]"
     ]
    },
    {
     "name": "stdout",
     "output_type": "stream",
     "text": [
      "Test Accuracy: 83.06%\n"
     ]
    },
    {
     "name": "stderr",
     "output_type": "stream",
     "text": [
      "\n",
      "Epoch 94: 100%|██████████| 500/500 [00:09<00:00, 51.32it/s, Loss=0.134]\n",
      "Testing: 100%|██████████| 100/100 [00:00<00:00, 229.69it/s]"
     ]
    },
    {
     "name": "stdout",
     "output_type": "stream",
     "text": [
      "Test Accuracy: 83.34%\n"
     ]
    },
    {
     "name": "stderr",
     "output_type": "stream",
     "text": [
      "\n",
      "Epoch 95: 100%|██████████| 500/500 [00:09<00:00, 51.64it/s, Loss=0.139]\n",
      "Testing: 100%|██████████| 100/100 [00:00<00:00, 229.31it/s]"
     ]
    },
    {
     "name": "stdout",
     "output_type": "stream",
     "text": [
      "Test Accuracy: 83.07%\n"
     ]
    },
    {
     "name": "stderr",
     "output_type": "stream",
     "text": [
      "\n",
      "Epoch 96: 100%|██████████| 500/500 [00:09<00:00, 51.38it/s, Loss=0.138]\n",
      "Testing: 100%|██████████| 100/100 [00:00<00:00, 232.23it/s]"
     ]
    },
    {
     "name": "stdout",
     "output_type": "stream",
     "text": [
      "Test Accuracy: 82.88%\n"
     ]
    },
    {
     "name": "stderr",
     "output_type": "stream",
     "text": [
      "\n",
      "Epoch 97: 100%|██████████| 500/500 [00:09<00:00, 51.64it/s, Loss=0.13] \n",
      "Testing: 100%|██████████| 100/100 [00:00<00:00, 231.46it/s]"
     ]
    },
    {
     "name": "stdout",
     "output_type": "stream",
     "text": [
      "Test Accuracy: 82.84%\n"
     ]
    },
    {
     "name": "stderr",
     "output_type": "stream",
     "text": [
      "\n",
      "Epoch 98: 100%|██████████| 500/500 [00:09<00:00, 51.46it/s, Loss=0.124]\n",
      "Testing: 100%|██████████| 100/100 [00:00<00:00, 226.27it/s]"
     ]
    },
    {
     "name": "stdout",
     "output_type": "stream",
     "text": [
      "Test Accuracy: 83.30%\n"
     ]
    },
    {
     "name": "stderr",
     "output_type": "stream",
     "text": [
      "\n",
      "Epoch 99: 100%|██████████| 500/500 [00:09<00:00, 51.35it/s, Loss=0.126]\n",
      "Testing: 100%|██████████| 100/100 [00:00<00:00, 232.74it/s]"
     ]
    },
    {
     "name": "stdout",
     "output_type": "stream",
     "text": [
      "Test Accuracy: 82.62%\n"
     ]
    },
    {
     "name": "stderr",
     "output_type": "stream",
     "text": [
      "\n",
      "Epoch 100: 100%|██████████| 500/500 [00:09<00:00, 51.54it/s, Loss=0.125]\n",
      "Testing: 100%|██████████| 100/100 [00:00<00:00, 224.85it/s]"
     ]
    },
    {
     "name": "stdout",
     "output_type": "stream",
     "text": [
      "Test Accuracy: 82.48%\n"
     ]
    },
    {
     "name": "stderr",
     "output_type": "stream",
     "text": [
      "\n"
     ]
    }
   ],
   "source": [
    "import torch\n",
    "import torch.nn as nn\n",
    "import torch.optim as optim\n",
    "from tqdm import tqdm\n",
    "import matplotlib.pyplot as plt\n",
    "\n",
    "\n",
    "learning_rates = [1e-3, 1e-4, 5e-4, 5e-5]\n",
    "train_losses_dict = {lr: [] for lr in learning_rates}\n",
    "test_accuracies_dict = {lr: [] for lr in learning_rates}\n",
    "steps_dict = {lr: [] for lr in learning_rates}\n",
    "\n",
    "# 定义训练函数\n",
    "def train(epoch, model, optimizer, trainloader, device, lr):\n",
    "    model.train()\n",
    "    running_loss = 0.0\n",
    "    pbar = tqdm(enumerate(trainloader), total=len(trainloader), desc=f\"Epoch {epoch+1}\")\n",
    "    for batch_idx, (inputs, targets) in pbar:\n",
    "        inputs, targets = inputs.to(device), targets.to(device)\n",
    "        optimizer.zero_grad()\n",
    "        outputs = model(inputs)\n",
    "        loss = criterion(outputs, targets)\n",
    "        loss.backward()\n",
    "        optimizer.step()\n",
    "\n",
    "        running_loss += loss.item()\n",
    "        steps_dict[lr].append(loss.item())  # 记录每一步的损失\n",
    "        if batch_idx % 100 == 99:  # 每100个批次打印一次\n",
    "            pbar.set_postfix({'Loss': running_loss / 100})\n",
    "            running_loss = 0.0\n",
    "    return running_loss / len(trainloader)\n",
    "\n",
    "# 定义测试函数\n",
    "def test(model, testloader, device):\n",
    "    model.eval()\n",
    "    correct = 0\n",
    "    total = 0\n",
    "    with torch.no_grad():\n",
    "        pbar = tqdm(enumerate(testloader), total=len(testloader), desc=\"Testing\")\n",
    "        for batch_idx, (inputs, targets) in pbar:\n",
    "            inputs, targets = inputs.to(device), targets.to(device)\n",
    "            outputs = model(inputs)\n",
    "            _, predicted = outputs.max(1)\n",
    "            total += targets.size(0)\n",
    "            correct += predicted.eq(targets).sum().item()\n",
    "    accuracy = 100. * correct / total\n",
    "    print(f'Test Accuracy: {accuracy:.2f}%')\n",
    "    return accuracy\n",
    "\n",
    "# 设置设备\n",
    "device = torch.device(\"cuda\" if torch.cuda.is_available() else \"cpu\")\n",
    "\n",
    "# 训练和测试每个学习率下的模型\n",
    "epoch_size = 100\n",
    "criterion = nn.CrossEntropyLoss()\n",
    "\n",
    "for lr in learning_rates:\n",
    "    # 每次都重新初始化模型和优化器\n",
    "    model = VGG_A().to(device)\n",
    "    optimizer = optim.Adam(model.parameters(), lr=lr)\n",
    "    for epoch in range(epoch_size):\n",
    "        train_loss = train(epoch, model, optimizer, trainloader, device, lr)\n",
    "        train_losses_dict[lr].append(train_loss)\n",
    "        test_accuracy = test(model, testloader, device)\n",
    "        test_accuracies_dict[lr].append(test_accuracy)\n",
    "\n",
    "max_curve = []\n",
    "min_curve = []\n",
    "\n",
    "# 找到所有学习率下的最大步数\n",
    "max_steps = max(len(steps_dict[lr]) for lr in learning_rates)\n",
    "\n",
    "for step in range(max_steps):\n",
    "    step_losses = []\n",
    "    for lr in learning_rates:\n",
    "        if step < len(steps_dict[lr]):\n",
    "            step_losses.append(steps_dict[lr][step])\n",
    "    max_curve.append(max(step_losses))\n",
    "    min_curve.append(min(step_losses))\n"
   ]
  },
  {
   "cell_type": "code",
   "execution_count": 5,
   "metadata": {},
   "outputs": [
    {
     "data": {
      "text/html": [
       "<div>\n",
       "<style scoped>\n",
       "    .dataframe tbody tr th:only-of-type {\n",
       "        vertical-align: middle;\n",
       "    }\n",
       "\n",
       "    .dataframe tbody tr th {\n",
       "        vertical-align: top;\n",
       "    }\n",
       "\n",
       "    .dataframe thead th {\n",
       "        text-align: right;\n",
       "    }\n",
       "</style>\n",
       "<table border=\"1\" class=\"dataframe\">\n",
       "  <thead>\n",
       "    <tr style=\"text-align: right;\">\n",
       "      <th></th>\n",
       "      <th>0.00100</th>\n",
       "      <th>0.00010</th>\n",
       "      <th>0.00050</th>\n",
       "      <th>0.00005</th>\n",
       "    </tr>\n",
       "  </thead>\n",
       "  <tbody>\n",
       "    <tr>\n",
       "      <th>0</th>\n",
       "      <td>2.303299</td>\n",
       "      <td>2.305228</td>\n",
       "      <td>2.300539</td>\n",
       "      <td>2.301166</td>\n",
       "    </tr>\n",
       "    <tr>\n",
       "      <th>1</th>\n",
       "      <td>2.303428</td>\n",
       "      <td>2.299906</td>\n",
       "      <td>2.303836</td>\n",
       "      <td>2.301745</td>\n",
       "    </tr>\n",
       "    <tr>\n",
       "      <th>2</th>\n",
       "      <td>2.305563</td>\n",
       "      <td>2.302409</td>\n",
       "      <td>2.302433</td>\n",
       "      <td>2.307853</td>\n",
       "    </tr>\n",
       "    <tr>\n",
       "      <th>3</th>\n",
       "      <td>2.303114</td>\n",
       "      <td>2.301602</td>\n",
       "      <td>2.300808</td>\n",
       "      <td>2.305148</td>\n",
       "    </tr>\n",
       "    <tr>\n",
       "      <th>4</th>\n",
       "      <td>2.300057</td>\n",
       "      <td>2.303525</td>\n",
       "      <td>2.304745</td>\n",
       "      <td>2.305660</td>\n",
       "    </tr>\n",
       "    <tr>\n",
       "      <th>...</th>\n",
       "      <td>...</td>\n",
       "      <td>...</td>\n",
       "      <td>...</td>\n",
       "      <td>...</td>\n",
       "    </tr>\n",
       "    <tr>\n",
       "      <th>49995</th>\n",
       "      <td>0.182204</td>\n",
       "      <td>0.077243</td>\n",
       "      <td>0.122416</td>\n",
       "      <td>0.104071</td>\n",
       "    </tr>\n",
       "    <tr>\n",
       "      <th>49996</th>\n",
       "      <td>0.260271</td>\n",
       "      <td>0.095607</td>\n",
       "      <td>0.099506</td>\n",
       "      <td>0.228845</td>\n",
       "    </tr>\n",
       "    <tr>\n",
       "      <th>49997</th>\n",
       "      <td>0.311737</td>\n",
       "      <td>0.069199</td>\n",
       "      <td>0.070063</td>\n",
       "      <td>0.046395</td>\n",
       "    </tr>\n",
       "    <tr>\n",
       "      <th>49998</th>\n",
       "      <td>0.183362</td>\n",
       "      <td>0.061426</td>\n",
       "      <td>0.181628</td>\n",
       "      <td>0.148762</td>\n",
       "    </tr>\n",
       "    <tr>\n",
       "      <th>49999</th>\n",
       "      <td>0.233094</td>\n",
       "      <td>0.046543</td>\n",
       "      <td>0.114545</td>\n",
       "      <td>0.199713</td>\n",
       "    </tr>\n",
       "  </tbody>\n",
       "</table>\n",
       "<p>50000 rows × 4 columns</p>\n",
       "</div>"
      ],
      "text/plain": [
       "        0.00100   0.00010   0.00050   0.00005\n",
       "0      2.303299  2.305228  2.300539  2.301166\n",
       "1      2.303428  2.299906  2.303836  2.301745\n",
       "2      2.305563  2.302409  2.302433  2.307853\n",
       "3      2.303114  2.301602  2.300808  2.305148\n",
       "4      2.300057  2.303525  2.304745  2.305660\n",
       "...         ...       ...       ...       ...\n",
       "49995  0.182204  0.077243  0.122416  0.104071\n",
       "49996  0.260271  0.095607  0.099506  0.228845\n",
       "49997  0.311737  0.069199  0.070063  0.046395\n",
       "49998  0.183362  0.061426  0.181628  0.148762\n",
       "49999  0.233094  0.046543  0.114545  0.199713\n",
       "\n",
       "[50000 rows x 4 columns]"
      ]
     },
     "execution_count": 5,
     "metadata": {},
     "output_type": "execute_result"
    }
   ],
   "source": [
    "pd.DataFrame(steps_dict)"
   ]
  },
  {
   "cell_type": "code",
   "execution_count": 6,
   "metadata": {},
   "outputs": [],
   "source": [
    "df = pd.DataFrame()\n",
    "df.index = range(1, epoch_size*500+1)\n",
    "df['max_curve'] = max_curve\n",
    "df['min_curve'] = min_curve\n",
    "df\n",
    "\n",
    "df.to_pickle(\"VGG_A_LandScape_byStep.pkl\")"
   ]
  },
  {
   "cell_type": "code",
   "execution_count": 7,
   "metadata": {},
   "outputs": [
    {
     "data": {
      "image/png": "[encoded data removed]",
      "text/plain": [
       "<Figure size 640x480 with 1 Axes>"
      ]
     },
     "metadata": {},
     "output_type": "display_data"
    }
   ],
   "source": [
    "plt.figure()\n",
    "plt.plot(range(1, epoch_size*500+1), max_curve, label='Max Loss')\n",
    "plt.plot(range(1, epoch_size*500+1), min_curve, label='Min Loss')\n",
    "plt.fill_between(range(1, epoch_size*500+1), min_curve, max_curve, color='gray', alpha=0.3)\n",
    "plt.xlabel('Steps')\n",
    "plt.ylabel('Loss')\n",
    "plt.title('Training Loss LandScape')\n",
    "plt.legend()\n",
    "plt.show()"
   ]
  },
  {
   "cell_type": "code",
   "execution_count": 8,
   "metadata": {},
   "outputs": [
    {
     "data": {
      "image/png": "[encoded data removed]",
      "text/plain": [
       "<Figure size 1000x600 with 1 Axes>"
      ]
     },
     "metadata": {},
     "output_type": "display_data"
    }
   ],
   "source": [
    "VGG_A_LandScape = pd.read_pickle(\"VGG_A_LandScape_byStep.pkl\")\n",
    "VGG_BN_LandScape = pd.read_pickle(\"VGG_BN_LandScape_byStep.pkl\")\n",
    "plt.figure(figsize=(10, 6))\n",
    "\n",
    "# Standard VGG\n",
    "plt.fill_between(range(1, len(VGG_A_LandScape) + 1), VGG_A_LandScape['max_curve'], VGG_A_LandScape['min_curve'], color='green', alpha=0.5, label='Standard VGG')\n",
    "\n",
    "# Standard VGG + BatchNorm\n",
    "plt.fill_between(range(1, len(VGG_BN_LandScape) + 1), VGG_BN_LandScape['max_curve'], VGG_BN_LandScape['min_curve'], color='red', alpha=0.5, label='Standard VGG + BatchNorm')\n",
    "\n",
    "# Labels and Title\n",
    "plt.xlabel('Steps')\n",
    "plt.ylabel('Loss Landscape')\n",
    "plt.title('Loss Landscape')\n",
    "plt.legend()\n",
    "\n",
    "# Show plot\n",
    "plt.show()"
   ]
  }
 ],
 "metadata": {
  "kernelspec": {
   "display_name": "Deep-learning",
   "language": "python",
   "name": "python3"
  },
  "language_info": {
   "codemirror_mode": {
    "name": "ipython",
    "version": 3
   },
   "file_extension": ".py",
   "mimetype": "text/x-python",
   "name": "python",
   "nbconvert_exporter": "python",
   "pygments_lexer": "ipython3",
   "version": "3.10.13"
  }
 },
 "nbformat": 4,
 "nbformat_minor": 2
}
